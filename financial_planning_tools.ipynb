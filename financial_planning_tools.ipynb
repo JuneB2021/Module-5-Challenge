{
 "cells": [
  {
   "cell_type": "markdown",
   "metadata": {},
   "source": [
    "# Financial Planning with APIs and Simulations\n",
    "\n",
    "In this Challenge, you’ll create two financial analysis tools by using a single Jupyter notebook:\n",
    "\n",
    "Part 1: A financial planner for emergencies. The members will be able to use this tool to visualize their current savings. The members can then determine if they have enough reserves for an emergency fund.\n",
    "\n",
    "Part 2: A financial planner for retirement. This tool will forecast the performance of their retirement portfolio in 30 years. To do this, the tool will make an Alpaca API call via the Alpaca SDK to get historical price data for use in Monte Carlo simulations.\n",
    "\n",
    "You’ll use the information from the Monte Carlo simulation to answer questions about the portfolio in your Jupyter notebook.\n",
    "\n"
   ]
  },
  {
   "cell_type": "code",
   "execution_count": 1,
   "metadata": {},
   "outputs": [],
   "source": [
    "# Import the required libraries and dependencies\n",
    "import os\n",
    "import requests\n",
    "import json\n",
    "import pandas as pd\n",
    "from dotenv import load_dotenv\n",
    "import alpaca_trade_api as tradeapi\n",
    "from MCForecastTools import MCSimulation\n",
    "import numpy as np\n",
    "\n",
    "%matplotlib inline"
   ]
  },
  {
   "cell_type": "code",
   "execution_count": 2,
   "metadata": {},
   "outputs": [
    {
     "data": {
      "text/plain": [
       "True"
      ]
     },
     "execution_count": 2,
     "metadata": {},
     "output_type": "execute_result"
    }
   ],
   "source": [
    "# Load the environment variables from the .env file\n",
    "#by calling the load_dotenv function\n",
    "load_dotenv()"
   ]
  },
  {
   "cell_type": "markdown",
   "metadata": {},
   "source": [
    "## Part 1: Create a Financial Planner for Emergencies"
   ]
  },
  {
   "cell_type": "markdown",
   "metadata": {},
   "source": [
    "### Evaluate the Cryptocurrency Wallet by Using the Requests Library\n",
    "\n",
    "In this section, you’ll determine the current value of a member’s cryptocurrency wallet. You’ll collect the current prices for the Bitcoin and Ethereum cryptocurrencies by using the Python Requests library. For the prototype, you’ll assume that the member holds the 1.2 Bitcoins (BTC) and 5.3 Ethereum coins (ETH). To do all this, complete the following steps:\n",
    "\n",
    "1. Create a variable named `monthly_income`, and set its value to `12000`.\n",
    "\n",
    "2. Use the Requests library to get the current price (in US dollars) of Bitcoin (BTC) and Ethereum (ETH) by using the API endpoints that the starter code supplies.\n",
    "\n",
    "3. Navigate the JSON response object to access the current price of each coin, and store each in a variable.\n",
    "\n",
    "    > **Hint** Note the specific identifier for each cryptocurrency in the API JSON response. The Bitcoin identifier is `1`, and the Ethereum identifier is `1027`.\n",
    "\n",
    "4. Calculate the value, in US dollars, of the current amount of each cryptocurrency and of the entire cryptocurrency wallet.\n",
    "\n"
   ]
  },
  {
   "cell_type": "code",
   "execution_count": 3,
   "metadata": {},
   "outputs": [],
   "source": [
    "# The current number of coins for each cryptocurrency asset held in the portfolio.\n",
    "btc_coins = 1.2\n",
    "eth_coins = 5.3"
   ]
  },
  {
   "cell_type": "markdown",
   "metadata": {},
   "source": [
    "#### Step 1: Create a variable named `monthly_income`, and set its value to `12000`."
   ]
  },
  {
   "cell_type": "code",
   "execution_count": 4,
   "metadata": {},
   "outputs": [],
   "source": [
    "# The monthly amount for the member's household income\n",
    "monthly_income = 12000"
   ]
  },
  {
   "cell_type": "markdown",
   "metadata": {},
   "source": [
    "#### Review the endpoint URLs for the API calls to Free Crypto API in order to get the current pricing information for both BTC and ETH."
   ]
  },
  {
   "cell_type": "code",
   "execution_count": 5,
   "metadata": {},
   "outputs": [],
   "source": [
    "# The Free Crypto API Call endpoint URLs for the held cryptocurrency assets\n",
    "btc_url = \"https://api.alternative.me/v2/ticker/Bitcoin/?convert=USD\"\n",
    "eth_url = \"https://api.alternative.me/v2/ticker/Ethereum/?convert=USD\""
   ]
  },
  {
   "cell_type": "markdown",
   "metadata": {},
   "source": [
    "#### Step 2. Use the Requests library to get the current price (in US dollars) of Bitcoin (BTC) and Ethereum (ETH) by using the API endpoints that the starter code supplied."
   ]
  },
  {
   "cell_type": "code",
   "execution_count": 6,
   "metadata": {},
   "outputs": [
    {
     "name": "stdout",
     "output_type": "stream",
     "text": [
      "{\n",
      "   \"data\": {\n",
      "      \"1\": {\n",
      "         \"id\": 1,\n",
      "         \"name\": \"Bitcoin\",\n",
      "         \"symbol\": \"BTC\",\n",
      "         \"website_slug\": \"bitcoin\",\n",
      "         \"rank\": 1,\n",
      "         \"circulating_supply\": 18760100,\n",
      "         \"total_supply\": 18760100,\n",
      "         \"max_supply\": 21000000,\n",
      "         \"quotes\": {\n",
      "            \"USD\": {\n",
      "               \"price\": 31794.0,\n",
      "               \"volume_24h\": 17109819825,\n",
      "               \"market_cap\": 595008208911,\n",
      "               \"percentage_change_1h\": 0.267275472662066,\n",
      "               \"percentage_change_24h\": -0.0769160237883259,\n",
      "               \"percentage_change_7d\": -5.66737866655123,\n",
      "               \"percent_change_1h\": 0.267275472662066,\n",
      "               \"percent_change_24h\": -0.0769160237883259,\n",
      "               \"percent_change_7d\": -5.66737866655123\n",
      "            }\n",
      "         },\n",
      "         \"last_updated\": 1626641698\n",
      "      }\n",
      "   },\n",
      "   \"metadata\": {\n",
      "      \"timestamp\": 1626641698,\n",
      "      \"num_cryptocurrencies\": 3123,\n",
      "      \"error\": null\n",
      "   }\n",
      "}\n"
     ]
    }
   ],
   "source": [
    "# Using the Python requests library, make an API call to access the current price of BTC\n",
    "btc_response = requests.get(btc_url).json()\n",
    "\n",
    "# Use the json.dumps function to review the response data from the API call\n",
    "# Use the indent and sort_keys parameters to make the response object readable\n",
    "print(json.dumps(btc_response, indent=3))"
   ]
  },
  {
   "cell_type": "code",
   "execution_count": 7,
   "metadata": {},
   "outputs": [
    {
     "name": "stdout",
     "output_type": "stream",
     "text": [
      "{\n",
      "   \"data\": {\n",
      "      \"1027\": {\n",
      "         \"id\": 1027,\n",
      "         \"name\": \"Ethereum\",\n",
      "         \"symbol\": \"ETH\",\n",
      "         \"website_slug\": \"ethereum\",\n",
      "         \"rank\": 2,\n",
      "         \"circulating_supply\": 116746353,\n",
      "         \"total_supply\": 116746353,\n",
      "         \"max_supply\": 0,\n",
      "         \"quotes\": {\n",
      "            \"USD\": {\n",
      "               \"price\": 1906.85,\n",
      "               \"volume_24h\": 14952352442,\n",
      "               \"market_cap\": 222533306582,\n",
      "               \"percentage_change_1h\": 0.0661302734887525,\n",
      "               \"percentage_change_24h\": -0.0198696236572579,\n",
      "               \"percentage_change_7d\": -10.1840321872337,\n",
      "               \"percent_change_1h\": 0.0661302734887525,\n",
      "               \"percent_change_24h\": -0.0198696236572579,\n",
      "               \"percent_change_7d\": -10.1840321872337\n",
      "            }\n",
      "         },\n",
      "         \"last_updated\": 1626641686\n",
      "      }\n",
      "   },\n",
      "   \"metadata\": {\n",
      "      \"timestamp\": 1626641686,\n",
      "      \"num_cryptocurrencies\": 3123,\n",
      "      \"error\": null\n",
      "   }\n",
      "}\n"
     ]
    }
   ],
   "source": [
    "# Using the Python requests library, make an API call to access the current price ETH\n",
    "eth_response = requests.get(eth_url).json()\n",
    "\n",
    "# Use the json.dumps function to review the response data from the API call\n",
    "# Use the indent and sort_keys parameters to make the response object readable\n",
    "print(json.dumps(eth_response, indent=3))"
   ]
  },
  {
   "cell_type": "markdown",
   "metadata": {},
   "source": [
    "#### Step 3: Navigate the JSON response object to access the current price of each coin, and store each in a variable."
   ]
  },
  {
   "cell_type": "code",
   "execution_count": 8,
   "metadata": {},
   "outputs": [
    {
     "name": "stdout",
     "output_type": "stream",
     "text": [
      "The current price of BTC: $31794.0\n"
     ]
    }
   ],
   "source": [
    "# Navigate the BTC response object to access the current price of BTC\n",
    "btc_price = btc_response['data']['1']['quotes']['USD']['price']\n",
    "\n",
    "# Print the current price of BTC\n",
    "print(f\"The current price of BTC: ${btc_price}\")"
   ]
  },
  {
   "cell_type": "code",
   "execution_count": 9,
   "metadata": {},
   "outputs": [
    {
     "name": "stdout",
     "output_type": "stream",
     "text": [
      "The current price of ETH: $1906.85\n"
     ]
    }
   ],
   "source": [
    "# Navigate the BTC response object to access the current price of ETH\n",
    "eth_price = eth_response['data']['1027']['quotes']['USD']['price']\n",
    "\n",
    "# Print the current price of ETH\n",
    "print(f\"The current price of ETH: ${eth_price}\")"
   ]
  },
  {
   "cell_type": "markdown",
   "metadata": {},
   "source": [
    "### Step 4: Calculate the value, in US dollars, of the current amount of each cryptocurrency and of the entire cryptocurrency wallet."
   ]
  },
  {
   "cell_type": "code",
   "execution_count": 10,
   "metadata": {},
   "outputs": [
    {
     "name": "stdout",
     "output_type": "stream",
     "text": [
      "The current value of BTC: $38153.0\n"
     ]
    }
   ],
   "source": [
    "# Compute the current value of the BTC holding \n",
    "btc_value = btc_price * btc_coins\n",
    "\n",
    "# Print current value of your holding in BTC\n",
    "print(f\"The current value of BTC: ${round(btc_value,0)}\")"
   ]
  },
  {
   "cell_type": "code",
   "execution_count": 11,
   "metadata": {},
   "outputs": [
    {
     "name": "stdout",
     "output_type": "stream",
     "text": [
      "The current value of ETH: $10106.0\n"
     ]
    }
   ],
   "source": [
    "# Compute the current value of the ETH holding \n",
    "eth_value = eth_price * eth_coins\n",
    "\n",
    "# Print current value of your holding in ETH\n",
    "print(f\"The current value of ETH: ${round(eth_value,0)}\")"
   ]
  },
  {
   "cell_type": "code",
   "execution_count": 12,
   "metadata": {},
   "outputs": [
    {
     "name": "stdout",
     "output_type": "stream",
     "text": [
      "The balance of Crytocurrency wallet is: $48259.0\n"
     ]
    }
   ],
   "source": [
    "# Compute the total value of the cryptocurrency wallet\n",
    "# Add the value of the BTC holding to the value of the ETH holding\n",
    "total_crypto_wallet = btc_value + eth_value\n",
    "\n",
    "# Print current cryptocurrency wallet balance\n",
    "print(f\"The balance of Crytocurrency wallet is: ${round(total_crypto_wallet,0)}\")"
   ]
  },
  {
   "cell_type": "markdown",
   "metadata": {},
   "source": [
    "### Evaluate the Stock and Bond Holdings by Using the Alpaca SDK\n",
    "\n",
    "In this section, you’ll determine the current value of a member’s stock and bond holdings. You’ll make an API call to Alpaca via the Alpaca SDK to get the current closing prices of the SPDR S&P 500 ETF Trust (ticker: SPY) and of the iShares Core US Aggregate Bond ETF (ticker: AGG). For the prototype, assume that the member holds 110 shares of SPY, which represents the stock portion of their portfolio, and 200 shares of AGG, which represents the bond portion. To do all this, complete the following steps:\n",
    "\n",
    "1. In the `Starter_Code` folder, create an environment file (`.env`) to store the values of your Alpaca API key and Alpaca secret key.\n",
    "\n",
    "2. Set the variables for the Alpaca API and secret keys. Using the Alpaca SDK, create the Alpaca `tradeapi.REST` object. In this object, include the parameters for the Alpaca API key, the secret key, and the version number.\n",
    "\n",
    "3. Set the following parameters for the Alpaca API call:\n",
    "\n",
    "    - `tickers`: Use the tickers for the member’s stock and bond holdings.\n",
    "\n",
    "    - `timeframe`: Use a time frame of one day.\n",
    "\n",
    "    - `start_date` and `end_date`: Use the same date for these parameters, and format them with the date of the previous weekday (or `2020-08-07`). This is because you want the one closing price for the most-recent trading day.\n",
    "\n",
    "4. Get the current closing prices for `SPY` and `AGG` by using the Alpaca `get_barset` function. Format the response as a Pandas DataFrame by including the `df` property at the end of the `get_barset` function.\n",
    "\n",
    "5. Navigating the Alpaca response DataFrame, select the `SPY` and `AGG` closing prices, and store them as variables.\n",
    "\n",
    "6. Calculate the value, in US dollars, of the current amount of shares in each of the stock and bond portions of the portfolio, and print the results.\n"
   ]
  },
  {
   "cell_type": "markdown",
   "metadata": {},
   "source": [
    "#### Review the total number of shares held in both (SPY) and (AGG)."
   ]
  },
  {
   "cell_type": "code",
   "execution_count": 13,
   "metadata": {},
   "outputs": [],
   "source": [
    "# Current amount of shares held in both the stock (SPY) and bond (AGG) portion of the portfolio.\n",
    "spy_shares = 110\n",
    "agg_shares = 200"
   ]
  },
  {
   "cell_type": "markdown",
   "metadata": {},
   "source": [
    "#### Step 1: In the `Starter_Code` folder, create an environment file (`.env`) to store the values of your Alpaca API key and Alpaca secret key."
   ]
  },
  {
   "cell_type": "markdown",
   "metadata": {},
   "source": [
    "#### Step 2: Set the variables for the Alpaca API and secret keys. Using the Alpaca SDK, create the Alpaca `tradeapi.REST` object. In this object, include the parameters for the Alpaca API key, the secret key, and the version number."
   ]
  },
  {
   "cell_type": "code",
   "execution_count": 14,
   "metadata": {},
   "outputs": [
    {
     "name": "stdout",
     "output_type": "stream",
     "text": [
      "Alpaca Key type: <class 'str'>\n",
      "Alpaca Secret Key type: <class 'str'>\n"
     ]
    }
   ],
   "source": [
    "# Set the variables for the Alpaca API and secret keys\n",
    "alpaca_api_key = os.getenv(\"ALPACA_API_KEY\")\n",
    "alpaca_secret_key = os.getenv(\"ALPACA_SECRET_KEY\")\n",
    "\n",
    "# Verify Alpaca key and Secret key were correctly loaded\n",
    "print(f\"Alpaca Key type: {type(alpaca_api_key)}\")\n",
    "print(f\"Alpaca Secret Key type: {type(alpaca_secret_key)}\")\n",
    "\n",
    "# Create the Alpaca tradeapi.REST object\n",
    "alpaca = tradeapi.REST(\n",
    "    alpaca_api_key,\n",
    "    alpaca_secret_key,\n",
    "    api_version=\"v2\")"
   ]
  },
  {
   "cell_type": "markdown",
   "metadata": {},
   "source": [
    "#### Step 3: Set the following parameters for the Alpaca API call:\n",
    "\n",
    "- `tickers`: Use the tickers for the member’s stock and bond holdings.\n",
    "\n",
    "- `timeframe`: Use a time frame of one day.\n",
    "\n",
    "- `start_date` and `end_date`: Use the same date for these parameters, and format them with the date of the previous weekday (or `2020-08-07`). This is because you want the one closing price for the most-recent trading day.\n"
   ]
  },
  {
   "cell_type": "code",
   "execution_count": 15,
   "metadata": {},
   "outputs": [],
   "source": [
    "# Set the tickers for both the bond and stock portion of the portfolio\n",
    "tickers = [\"SPY\", \"AGG\"]\n",
    "\n",
    "# Set timeframe to 1D \n",
    "timeframe = \"1D\"\n",
    "\n",
    "# Format current date as ISO format\n",
    "# Set both the start and end date at the date of your prior weekday \n",
    "# This will give you the closing price of the previous trading day\n",
    "# Alternatively you can use a start and end date of 2020-08-07\n",
    "today = pd.Timestamp(\"2021-07-16\", tz=\"America/New_York\").isoformat()"
   ]
  },
  {
   "cell_type": "markdown",
   "metadata": {},
   "source": [
    "#### Step 4: Get the current closing prices for `SPY` and `AGG` by using the Alpaca `get_barset` function. Format the response as a Pandas DataFrame by including the `df` property at the end of the `get_barset` function."
   ]
  },
  {
   "cell_type": "code",
   "execution_count": 16,
   "metadata": {},
   "outputs": [
    {
     "data": {
      "text/html": [
       "<div>\n",
       "<style scoped>\n",
       "    .dataframe tbody tr th:only-of-type {\n",
       "        vertical-align: middle;\n",
       "    }\n",
       "\n",
       "    .dataframe tbody tr th {\n",
       "        vertical-align: top;\n",
       "    }\n",
       "\n",
       "    .dataframe thead tr th {\n",
       "        text-align: left;\n",
       "    }\n",
       "\n",
       "    .dataframe thead tr:last-of-type th {\n",
       "        text-align: right;\n",
       "    }\n",
       "</style>\n",
       "<table border=\"1\" class=\"dataframe\">\n",
       "  <thead>\n",
       "    <tr>\n",
       "      <th></th>\n",
       "      <th colspan=\"5\" halign=\"left\">AGG</th>\n",
       "      <th colspan=\"5\" halign=\"left\">SPY</th>\n",
       "    </tr>\n",
       "    <tr>\n",
       "      <th></th>\n",
       "      <th>open</th>\n",
       "      <th>high</th>\n",
       "      <th>low</th>\n",
       "      <th>close</th>\n",
       "      <th>volume</th>\n",
       "      <th>open</th>\n",
       "      <th>high</th>\n",
       "      <th>low</th>\n",
       "      <th>close</th>\n",
       "      <th>volume</th>\n",
       "    </tr>\n",
       "    <tr>\n",
       "      <th>time</th>\n",
       "      <th></th>\n",
       "      <th></th>\n",
       "      <th></th>\n",
       "      <th></th>\n",
       "      <th></th>\n",
       "      <th></th>\n",
       "      <th></th>\n",
       "      <th></th>\n",
       "      <th></th>\n",
       "      <th></th>\n",
       "    </tr>\n",
       "  </thead>\n",
       "  <tbody>\n",
       "    <tr>\n",
       "      <th>2021-07-16 00:00:00-04:00</th>\n",
       "      <td>115.77</td>\n",
       "      <td>115.96</td>\n",
       "      <td>115.76</td>\n",
       "      <td>115.9</td>\n",
       "      <td>3679747</td>\n",
       "      <td>436</td>\n",
       "      <td>436.06</td>\n",
       "      <td>430.92</td>\n",
       "      <td>431.38</td>\n",
       "      <td>66637403</td>\n",
       "    </tr>\n",
       "  </tbody>\n",
       "</table>\n",
       "</div>"
      ],
      "text/plain": [
       "                              AGG                                  SPY  \\\n",
       "                             open    high     low  close   volume open   \n",
       "time                                                                     \n",
       "2021-07-16 00:00:00-04:00  115.77  115.96  115.76  115.9  3679747  436   \n",
       "\n",
       "                                                             \n",
       "                             high     low   close    volume  \n",
       "time                                                         \n",
       "2021-07-16 00:00:00-04:00  436.06  430.92  431.38  66637403  "
      ]
     },
     "execution_count": 16,
     "metadata": {},
     "output_type": "execute_result"
    }
   ],
   "source": [
    "# Use the Alpaca get_barset function to get current closing prices the portfolio\n",
    "# Be sure to set the `df` property after the function to format the response object as a DataFrame\n",
    "df_portfolio = alpaca.get_barset(\n",
    "    tickers,\n",
    "    timeframe,\n",
    "    start = today,\n",
    "    end = today\n",
    ").df\n",
    "\n",
    "# Review the first 5 rows of the Alpaca DataFrame\n",
    "df_portfolio.head(5)"
   ]
  },
  {
   "cell_type": "markdown",
   "metadata": {},
   "source": [
    "#### Step 5: Navigating the Alpaca response DataFrame, select the `SPY` and `AGG` closing prices, and store them as variables."
   ]
  },
  {
   "cell_type": "code",
   "execution_count": 17,
   "metadata": {},
   "outputs": [
    {
     "name": "stdout",
     "output_type": "stream",
     "text": [
      "The iShares Core US Aggregate Bond ETF closing price: $115.9\n"
     ]
    }
   ],
   "source": [
    "# Access the closing price for AGG from the Alpaca DataFrame\n",
    "# Converting the value to a floating point number\n",
    "agg_close_price = df_portfolio[\"AGG\"][\"close\"]\n",
    "agg_close_price = float(agg_close_price)\n",
    "\n",
    "# Print the AGG closing price\n",
    "print(f\"The iShares Core US Aggregate Bond ETF closing price: ${agg_close_price}\")\n"
   ]
  },
  {
   "cell_type": "code",
   "execution_count": 18,
   "metadata": {},
   "outputs": [
    {
     "name": "stdout",
     "output_type": "stream",
     "text": [
      "The SPDR S&P 500 ETF Trust closing price: $431.38\n"
     ]
    }
   ],
   "source": [
    "# Access the closing price for SPY from the Alpaca DataFrame\n",
    "# Converting the value to a floating point number\n",
    "spy_close_price = df_portfolio[\"SPY\"][\"close\"]\n",
    "spy_close_price = float(spy_close_price)\n",
    "\n",
    "# Print the SPY closing price\n",
    "print(f\"The SPDR S&P 500 ETF Trust closing price: ${spy_close_price}\")\n"
   ]
  },
  {
   "cell_type": "markdown",
   "metadata": {},
   "source": [
    "#### Step 6: Calculate the value, in US dollars, of the current amount of shares in each of the stock and bond portions of the portfolio, and print the results."
   ]
  },
  {
   "cell_type": "code",
   "execution_count": 19,
   "metadata": {},
   "outputs": [
    {
     "name": "stdout",
     "output_type": "stream",
     "text": [
      "The value of the bond portfolio: $23180.0\n"
     ]
    }
   ],
   "source": [
    "# Calculate the current value of the bond portion of the portfolio\n",
    "agg_value = agg_close_price * agg_shares\n",
    "\n",
    "# Print the current value of the bond portfolio\n",
    "print(f\"The value of the bond portfolio: ${agg_value}\")\n"
   ]
  },
  {
   "cell_type": "code",
   "execution_count": 20,
   "metadata": {},
   "outputs": [
    {
     "name": "stdout",
     "output_type": "stream",
     "text": [
      "The value of the stock portfolio: $47451.8\n"
     ]
    }
   ],
   "source": [
    "# Calculate the current value of the stock portion of the portfolio\n",
    "spy_value = spy_close_price * spy_shares\n",
    "\n",
    "# Print the current value of the stock portfolio\n",
    "print(f\"The value of the stock portfolio: ${spy_value}\")\n"
   ]
  },
  {
   "cell_type": "code",
   "execution_count": 21,
   "metadata": {},
   "outputs": [
    {
     "name": "stdout",
     "output_type": "stream",
     "text": [
      "Total value of the stock and bond portfolio: $70631.8\n"
     ]
    }
   ],
   "source": [
    "# Calculate the total value of the stock and bond portion of the portfolio\n",
    "total_stocks_bonds = agg_value + spy_value\n",
    "\n",
    "# Print the current balance of the stock and bond portion of the portfolio\n",
    "print(f\"Total value of the stock and bond portfolio: ${total_stocks_bonds}\")\n"
   ]
  },
  {
   "cell_type": "code",
   "execution_count": 22,
   "metadata": {},
   "outputs": [
    {
     "name": "stdout",
     "output_type": "stream",
     "text": [
      "Total value of the portfolio: $118890.905\n"
     ]
    }
   ],
   "source": [
    "# Calculate the total value of the member's entire savings portfolio\n",
    "# Add the value of the cryptocurrency walled to the value of the total stocks and bonds\n",
    "total_portfolio = total_stocks_bonds + total_crypto_wallet\n",
    "\n",
    "# Print current cryptocurrency wallet balance\n",
    "print(f\"Total value of the portfolio: ${total_portfolio}\")\n"
   ]
  },
  {
   "cell_type": "markdown",
   "metadata": {},
   "source": [
    "### Evaluate the Emergency Fund\n",
    "\n",
    "In this section, you’ll use the valuations for the cryptocurrency wallet and for the stock and bond portions of the portfolio to determine if the credit union member has enough savings to build an emergency fund into their financial plan. To do this, complete the following steps:\n",
    "\n",
    "1. Create a Python list named `savings_data` that has two elements. The first element contains the total value of the cryptocurrency wallet. The second element contains the total value of the stock and bond portions of the portfolio.\n",
    "\n",
    "2. Use the `savings_data` list to create a Pandas DataFrame named `savings_df`, and then display this DataFrame. The function to create the DataFrame should take the following three parameters:\n",
    "\n",
    "    - `savings_data`: Use the list that you just created.\n",
    "\n",
    "    - `columns`: Set this parameter equal to a Python list with a single value called `amount`.\n",
    "\n",
    "    - `index`: Set this parameter equal to a Python list with the values of `crypto` and `stock/bond`.\n",
    "\n",
    "3. Use the `savings_df` DataFrame to plot a pie chart that visualizes the composition of the member’s portfolio. The y-axis of the pie chart uses `amount`. Be sure to add a title.\n",
    "\n",
    "4. Using Python, determine if the current portfolio has enough to create an emergency fund as part of the member’s financial plan. Ideally, an emergency fund should equal to three times the member’s monthly income. To do this, implement the following steps:\n",
    "\n",
    "    1. Create a variable named `emergency_fund_value`, and set it equal to three times the value of the member’s `monthly_income` of $12000. (You set this earlier in Part 1).\n",
    "\n",
    "    2. Create a series of three if statements to determine if the member’s total portfolio is large enough to fund the emergency portfolio:\n",
    "\n",
    "        1. If the total portfolio value is greater than the emergency fund value, display a message congratulating the member for having enough money in this fund.\n",
    "\n",
    "        2. Else if the total portfolio value is equal to the emergency fund value, display a message congratulating the member on reaching this important financial goal.\n",
    "\n",
    "        3. Else the total portfolio is less than the emergency fund value, so display a message showing how many dollars away the member is from reaching the goal. (Subtract the total portfolio value from the emergency fund value.)\n"
   ]
  },
  {
   "cell_type": "markdown",
   "metadata": {},
   "source": [
    "#### Step 1: Create a Python list named `savings_data` that has two elements. The first element contains the total value of the cryptocurrency wallet. The second element contains the total value of the stock and bond portions of the portfolio."
   ]
  },
  {
   "cell_type": "code",
   "execution_count": 23,
   "metadata": {},
   "outputs": [
    {
     "data": {
      "text/plain": [
       "[48259.104999999996, 70631.8]"
      ]
     },
     "execution_count": 23,
     "metadata": {},
     "output_type": "execute_result"
    }
   ],
   "source": [
    "# Consolidate financial assets data into a Python list\n",
    "savings_data = [total_crypto_wallet,total_stocks_bonds]\n",
    "\n",
    "# Review the Python list savings_data\n",
    "savings_data\n",
    "    "
   ]
  },
  {
   "cell_type": "markdown",
   "metadata": {},
   "source": [
    "#### Step 2: Use the `savings_data` list to create a Pandas DataFrame named `savings_df`, and then display this DataFrame. The function to create the DataFrame should take the following three parameters:\n",
    "\n",
    "- `savings_data`: Use the list that you just created.\n",
    "\n",
    "- `columns`: Set this parameter equal to a Python list with a single value called `amount`.\n",
    "\n",
    "- `index`: Set this parameter equal to a Python list with the values of `crypto` and `stock/bond`.\n"
   ]
  },
  {
   "cell_type": "code",
   "execution_count": 24,
   "metadata": {},
   "outputs": [
    {
     "data": {
      "text/html": [
       "<div>\n",
       "<style scoped>\n",
       "    .dataframe tbody tr th:only-of-type {\n",
       "        vertical-align: middle;\n",
       "    }\n",
       "\n",
       "    .dataframe tbody tr th {\n",
       "        vertical-align: top;\n",
       "    }\n",
       "\n",
       "    .dataframe thead th {\n",
       "        text-align: right;\n",
       "    }\n",
       "</style>\n",
       "<table border=\"1\" class=\"dataframe\">\n",
       "  <thead>\n",
       "    <tr style=\"text-align: right;\">\n",
       "      <th></th>\n",
       "      <th>amount</th>\n",
       "    </tr>\n",
       "  </thead>\n",
       "  <tbody>\n",
       "    <tr>\n",
       "      <th>crypto</th>\n",
       "      <td>48259.105</td>\n",
       "    </tr>\n",
       "    <tr>\n",
       "      <th>stock/bond</th>\n",
       "      <td>70631.800</td>\n",
       "    </tr>\n",
       "  </tbody>\n",
       "</table>\n",
       "</div>"
      ],
      "text/plain": [
       "               amount\n",
       "crypto      48259.105\n",
       "stock/bond  70631.800"
      ]
     },
     "execution_count": 24,
     "metadata": {},
     "output_type": "execute_result"
    }
   ],
   "source": [
    "# Create a Pandas DataFrame called savings_df \n",
    "savings_df = pd.DataFrame(data=savings_data, index=[\"crypto\", \"stock/bond\"])\n",
    "savings_df.columns = ['amount']\n",
    "# Display the savings_df DataFrame\n",
    "savings_df\n"
   ]
  },
  {
   "cell_type": "markdown",
   "metadata": {},
   "source": [
    "#### Step 3: Use the `savings_df` DataFrame to plot a pie chart that visualizes the composition of the member’s portfolio. The y-axis of the pie chart uses `amount`. Be sure to add a title."
   ]
  },
  {
   "cell_type": "code",
   "execution_count": 25,
   "metadata": {},
   "outputs": [
    {
     "data": {
      "text/plain": [
       "<AxesSubplot:title={'center':'Total Portfolios'}, ylabel='amount'>"
      ]
     },
     "execution_count": 25,
     "metadata": {},
     "output_type": "execute_result"
    },
    {
     "data": {
      "image/png": "[encoded data removed]",
      "text/plain": [
       "<Figure size 1440x720 with 1 Axes>"
      ]
     },
     "metadata": {},
     "output_type": "display_data"
    }
   ],
   "source": [
    "# Plot the total value of the member's portfolio (crypto and stock/bond) in a pie chart\n",
    "savings_df.plot(figsize=(20, 10), kind='pie', y='amount', title='Total Portfolios')\n"
   ]
  },
  {
   "cell_type": "markdown",
   "metadata": {},
   "source": [
    "#### Step 4: Using Python, determine if the current portfolio has enough to create an emergency fund as part of the member’s financial plan. Ideally, an emergency fund should equal to three times the member’s monthly income. To do this, implement the following steps:\n",
    "\n",
    "Step 1. Create a variable named `emergency_fund_value`, and set it equal to three times the value of the member’s `monthly_income` of 12000. (You set this earlier in Part 1).\n",
    "\n",
    "Step 2. Create a series of three if statements to determine if the member’s total portfolio is large enough to fund the emergency portfolio:\n",
    "\n",
    "* If the total portfolio value is greater than the emergency fund value, display a message congratulating the member for having enough money in this fund.\n",
    "\n",
    "* Else if the total portfolio value is equal to the emergency fund value, display a message congratulating the member on reaching this important financial goal.\n",
    "\n",
    "* Else the total portfolio is less than the emergency fund value, so display a message showing how many dollars away the member is from reaching the goal. (Subtract the total portfolio value from the emergency fund value.)\n"
   ]
  },
  {
   "cell_type": "markdown",
   "metadata": {},
   "source": [
    "##### Step 4-1: Create a variable named `emergency_fund_value`, and set it equal to three times the value of the member’s `monthly_income` of 12000. (You set this earlier in Part 1)."
   ]
  },
  {
   "cell_type": "code",
   "execution_count": 26,
   "metadata": {},
   "outputs": [
    {
     "data": {
      "text/plain": [
       "36000"
      ]
     },
     "execution_count": 26,
     "metadata": {},
     "output_type": "execute_result"
    }
   ],
   "source": [
    "# Create a variable named emergency_fund_value\n",
    "emergency_fund_value = monthly_income * 3\n",
    "emergency_fund_value"
   ]
  },
  {
   "cell_type": "markdown",
   "metadata": {},
   "source": [
    "##### Step 4-2: Create a series of three if statements to determine if the member’s total portfolio is large enough to fund the emergency portfolio:\n",
    "\n",
    "* If the total portfolio value is greater than the emergency fund value, display a message congratulating the member for having enough money in this fund.\n",
    "\n",
    "* Else if the total portfolio value is equal to the emergency fund value, display a message congratulating the member on reaching this important financial goal.\n",
    "\n",
    "* Else the total portfolio is less than the emergency fund value, so display a message showing how many dollars away the member is from reaching the goal. (Subtract the total portfolio value from the emergency fund value.)"
   ]
  },
  {
   "cell_type": "code",
   "execution_count": 27,
   "metadata": {},
   "outputs": [
    {
     "name": "stdout",
     "output_type": "stream",
     "text": [
      "Congratulation! -- You have enough money in this fund\n"
     ]
    }
   ],
   "source": [
    "# Evaluate the possibility of creating an emergency fund with 3 conditions:\n",
    "if total_portfolio > emergency_fund_value:\n",
    "    print(f\"Congratulation! -- You have enough money in this fund\")\n",
    "elif total_portfolio == emergency_fund_value:\n",
    "        print(f\"Congratulation -- You are on target\")\n",
    "else:\n",
    "    extra_fund = emergency_fund_value - total_portfolio\n",
    "    print(f\"You are required extra fund of ${round(extra_fund,0)} in order to reach the goal\")\n"
   ]
  },
  {
   "cell_type": "markdown",
   "metadata": {},
   "source": [
    "## Part 2: Create a Financial Planner for Retirement"
   ]
  },
  {
   "cell_type": "markdown",
   "metadata": {},
   "source": [
    "### Create the Monte Carlo Simulation\n",
    "\n",
    "In this section, you’ll use the MCForecastTools library to create a Monte Carlo simulation for the member’s savings portfolio. To do this, complete the following steps:\n",
    "\n",
    "1. Make an API call via the Alpaca SDK to get 10 years of historical closing prices for a traditional 60/40 portfolio split: 60% stocks (SPY) and 40% bonds (AGG).\n",
    "\n",
    "2. Run a Monte Carlo simulation of 500 samples and 30 years for the 60/40 portfolio, and then plot the results.The following image shows the overlay line plot resulting from a simulation with these characteristics. However, because a random number generator is used to run each live Monte Carlo simulation, your image will differ slightly from this exact image:\n",
    "\n",
    "![A screenshot depicts the resulting plot.](Images/5-4-monte-carlo-line-plot.png)\n",
    "\n",
    "3. Plot the probability distribution of the Monte Carlo simulation. Plot the probability distribution of the Monte Carlo simulation. The following image shows the histogram plot resulting from a simulation with these characteristics. However, because a random number generator is used to run each live Monte Carlo simulation, your image will differ slightly from this exact image:\n",
    "\n",
    "![A screenshot depicts the histogram plot.](Images/5-4-monte-carlo-histogram.png)\n",
    "\n",
    "4. Generate the summary statistics for the Monte Carlo simulation.\n",
    "\n"
   ]
  },
  {
   "cell_type": "markdown",
   "metadata": {},
   "source": [
    "#### Step 1: Make an API call via the Alpaca SDK to get 10 years of historical closing prices for a traditional 60/40 portfolio split: 60% stocks (SPY) and 40% bonds (AGG)."
   ]
  },
  {
   "cell_type": "code",
   "execution_count": 28,
   "metadata": {},
   "outputs": [],
   "source": [
    "# Set start and end dates of 10 years back from your current date\n",
    "# Alternatively, you can use an end date of 2020-08-07 and work 10 years back from that date \n",
    "start = pd.Timestamp(\"2011-07-16\", tz=\"America/New_York\").isoformat()\n",
    "end = pd.Timestamp(\"2021-07-16\", tz=\"America/New_York\").isoformat()\n"
   ]
  },
  {
   "cell_type": "code",
   "execution_count": 29,
   "metadata": {},
   "outputs": [
    {
     "data": {
      "text/html": [
       "<div>\n",
       "<style scoped>\n",
       "    .dataframe tbody tr th:only-of-type {\n",
       "        vertical-align: middle;\n",
       "    }\n",
       "\n",
       "    .dataframe tbody tr th {\n",
       "        vertical-align: top;\n",
       "    }\n",
       "\n",
       "    .dataframe thead tr th {\n",
       "        text-align: left;\n",
       "    }\n",
       "\n",
       "    .dataframe thead tr:last-of-type th {\n",
       "        text-align: right;\n",
       "    }\n",
       "</style>\n",
       "<table border=\"1\" class=\"dataframe\">\n",
       "  <thead>\n",
       "    <tr>\n",
       "      <th></th>\n",
       "      <th colspan=\"5\" halign=\"left\">AGG</th>\n",
       "      <th colspan=\"5\" halign=\"left\">SPY</th>\n",
       "    </tr>\n",
       "    <tr>\n",
       "      <th></th>\n",
       "      <th>open</th>\n",
       "      <th>high</th>\n",
       "      <th>low</th>\n",
       "      <th>close</th>\n",
       "      <th>volume</th>\n",
       "      <th>open</th>\n",
       "      <th>high</th>\n",
       "      <th>low</th>\n",
       "      <th>close</th>\n",
       "      <th>volume</th>\n",
       "    </tr>\n",
       "    <tr>\n",
       "      <th>time</th>\n",
       "      <th></th>\n",
       "      <th></th>\n",
       "      <th></th>\n",
       "      <th></th>\n",
       "      <th></th>\n",
       "      <th></th>\n",
       "      <th></th>\n",
       "      <th></th>\n",
       "      <th></th>\n",
       "      <th></th>\n",
       "    </tr>\n",
       "  </thead>\n",
       "  <tbody>\n",
       "    <tr>\n",
       "      <th>2021-07-12 00:00:00-04:00</th>\n",
       "      <td>115.80</td>\n",
       "      <td>115.805</td>\n",
       "      <td>115.6000</td>\n",
       "      <td>115.63</td>\n",
       "      <td>3184908</td>\n",
       "      <td>435.42</td>\n",
       "      <td>437.35</td>\n",
       "      <td>434.97</td>\n",
       "      <td>437.08</td>\n",
       "      <td>42031814</td>\n",
       "    </tr>\n",
       "    <tr>\n",
       "      <th>2021-07-13 00:00:00-04:00</th>\n",
       "      <td>115.65</td>\n",
       "      <td>115.760</td>\n",
       "      <td>115.3022</td>\n",
       "      <td>115.39</td>\n",
       "      <td>4698374</td>\n",
       "      <td>436.26</td>\n",
       "      <td>437.84</td>\n",
       "      <td>435.31</td>\n",
       "      <td>435.62</td>\n",
       "      <td>45923305</td>\n",
       "    </tr>\n",
       "    <tr>\n",
       "      <th>2021-07-14 00:00:00-04:00</th>\n",
       "      <td>115.59</td>\n",
       "      <td>115.760</td>\n",
       "      <td>115.5690</td>\n",
       "      <td>115.75</td>\n",
       "      <td>3907266</td>\n",
       "      <td>437.39</td>\n",
       "      <td>437.92</td>\n",
       "      <td>434.91</td>\n",
       "      <td>436.22</td>\n",
       "      <td>54445950</td>\n",
       "    </tr>\n",
       "    <tr>\n",
       "      <th>2021-07-15 00:00:00-04:00</th>\n",
       "      <td>115.94</td>\n",
       "      <td>116.020</td>\n",
       "      <td>115.7222</td>\n",
       "      <td>115.99</td>\n",
       "      <td>3675913</td>\n",
       "      <td>434.81</td>\n",
       "      <td>435.53</td>\n",
       "      <td>432.72</td>\n",
       "      <td>434.73</td>\n",
       "      <td>50376465</td>\n",
       "    </tr>\n",
       "    <tr>\n",
       "      <th>2021-07-16 00:00:00-04:00</th>\n",
       "      <td>115.77</td>\n",
       "      <td>115.960</td>\n",
       "      <td>115.7600</td>\n",
       "      <td>115.90</td>\n",
       "      <td>3679747</td>\n",
       "      <td>436.00</td>\n",
       "      <td>436.06</td>\n",
       "      <td>430.92</td>\n",
       "      <td>431.38</td>\n",
       "      <td>66637403</td>\n",
       "    </tr>\n",
       "  </tbody>\n",
       "</table>\n",
       "</div>"
      ],
      "text/plain": [
       "                              AGG                                         SPY  \\\n",
       "                             open     high       low   close   volume    open   \n",
       "time                                                                            \n",
       "2021-07-12 00:00:00-04:00  115.80  115.805  115.6000  115.63  3184908  435.42   \n",
       "2021-07-13 00:00:00-04:00  115.65  115.760  115.3022  115.39  4698374  436.26   \n",
       "2021-07-14 00:00:00-04:00  115.59  115.760  115.5690  115.75  3907266  437.39   \n",
       "2021-07-15 00:00:00-04:00  115.94  116.020  115.7222  115.99  3675913  434.81   \n",
       "2021-07-16 00:00:00-04:00  115.77  115.960  115.7600  115.90  3679747  436.00   \n",
       "\n",
       "                                                             \n",
       "                             high     low   close    volume  \n",
       "time                                                         \n",
       "2021-07-12 00:00:00-04:00  437.35  434.97  437.08  42031814  \n",
       "2021-07-13 00:00:00-04:00  437.84  435.31  435.62  45923305  \n",
       "2021-07-14 00:00:00-04:00  437.92  434.91  436.22  54445950  \n",
       "2021-07-15 00:00:00-04:00  435.53  432.72  434.73  50376465  \n",
       "2021-07-16 00:00:00-04:00  436.06  430.92  431.38  66637403  "
      ]
     },
     "execution_count": 29,
     "metadata": {},
     "output_type": "execute_result"
    }
   ],
   "source": [
    "# Use the Alpaca get_barset function to make the API call to get the 10 years worth of pricing data\n",
    "# The tickers and timeframe parameters should have been set in Part 1 of this activity \n",
    "# The start and end dates should be updated with the information set above\n",
    "# Remember to add the df property to the end of the call so the response is returned as a DataFrame\n",
    "df_portfolio_10Y = alpaca.get_barset(\n",
    "    tickers,\n",
    "    timeframe,\n",
    "    start = start,\n",
    "    end = end\n",
    ").df\n",
    "\n",
    "\n",
    "# Display both the first and last five rows of the DataFrame\n",
    "df_portfolio_10Y.head()\n",
    "df_portfolio_10Y.tail()\n"
   ]
  },
  {
   "cell_type": "markdown",
   "metadata": {},
   "source": [
    "#### Step 2: Run a Monte Carlo simulation of 500 samples and 30 years for the 60/40 portfolio, and then plot the results."
   ]
  },
  {
   "cell_type": "code",
   "execution_count": 30,
   "metadata": {},
   "outputs": [
    {
     "data": {
      "text/html": [
       "<div>\n",
       "<style scoped>\n",
       "    .dataframe tbody tr th:only-of-type {\n",
       "        vertical-align: middle;\n",
       "    }\n",
       "\n",
       "    .dataframe tbody tr th {\n",
       "        vertical-align: top;\n",
       "    }\n",
       "\n",
       "    .dataframe thead tr th {\n",
       "        text-align: left;\n",
       "    }\n",
       "\n",
       "    .dataframe thead tr:last-of-type th {\n",
       "        text-align: right;\n",
       "    }\n",
       "</style>\n",
       "<table border=\"1\" class=\"dataframe\">\n",
       "  <thead>\n",
       "    <tr>\n",
       "      <th></th>\n",
       "      <th colspan=\"6\" halign=\"left\">AGG</th>\n",
       "      <th colspan=\"6\" halign=\"left\">SPY</th>\n",
       "    </tr>\n",
       "    <tr>\n",
       "      <th></th>\n",
       "      <th>open</th>\n",
       "      <th>high</th>\n",
       "      <th>low</th>\n",
       "      <th>close</th>\n",
       "      <th>volume</th>\n",
       "      <th>daily_return</th>\n",
       "      <th>open</th>\n",
       "      <th>high</th>\n",
       "      <th>low</th>\n",
       "      <th>close</th>\n",
       "      <th>volume</th>\n",
       "      <th>daily_return</th>\n",
       "    </tr>\n",
       "    <tr>\n",
       "      <th>time</th>\n",
       "      <th></th>\n",
       "      <th></th>\n",
       "      <th></th>\n",
       "      <th></th>\n",
       "      <th></th>\n",
       "      <th></th>\n",
       "      <th></th>\n",
       "      <th></th>\n",
       "      <th></th>\n",
       "      <th></th>\n",
       "      <th></th>\n",
       "      <th></th>\n",
       "    </tr>\n",
       "  </thead>\n",
       "  <tbody>\n",
       "    <tr>\n",
       "      <th>2021-02-24 00:00:00-05:00</th>\n",
       "      <td>115.06</td>\n",
       "      <td>115.5000</td>\n",
       "      <td>115.0100</td>\n",
       "      <td>115.47</td>\n",
       "      <td>6131453</td>\n",
       "      <td>NaN</td>\n",
       "      <td>386.33</td>\n",
       "      <td>392.23</td>\n",
       "      <td>385.2700</td>\n",
       "      <td>391.76</td>\n",
       "      <td>64527459</td>\n",
       "      <td>NaN</td>\n",
       "    </tr>\n",
       "    <tr>\n",
       "      <th>2021-02-25 00:00:00-05:00</th>\n",
       "      <td>115.01</td>\n",
       "      <td>115.2900</td>\n",
       "      <td>114.2000</td>\n",
       "      <td>114.41</td>\n",
       "      <td>14520445</td>\n",
       "      <td>-0.009180</td>\n",
       "      <td>390.41</td>\n",
       "      <td>391.88</td>\n",
       "      <td>380.7789</td>\n",
       "      <td>382.39</td>\n",
       "      <td>137059806</td>\n",
       "      <td>-0.023918</td>\n",
       "    </tr>\n",
       "    <tr>\n",
       "      <th>2021-02-26 00:00:00-05:00</th>\n",
       "      <td>114.96</td>\n",
       "      <td>115.3900</td>\n",
       "      <td>114.5915</td>\n",
       "      <td>115.37</td>\n",
       "      <td>9735524</td>\n",
       "      <td>0.008391</td>\n",
       "      <td>384.35</td>\n",
       "      <td>385.58</td>\n",
       "      <td>378.2300</td>\n",
       "      <td>380.32</td>\n",
       "      <td>134902084</td>\n",
       "      <td>-0.005413</td>\n",
       "    </tr>\n",
       "    <tr>\n",
       "      <th>2021-03-01 00:00:00-05:00</th>\n",
       "      <td>114.97</td>\n",
       "      <td>115.5899</td>\n",
       "      <td>114.8900</td>\n",
       "      <td>115.13</td>\n",
       "      <td>12546198</td>\n",
       "      <td>-0.002080</td>\n",
       "      <td>385.59</td>\n",
       "      <td>390.92</td>\n",
       "      <td>380.5720</td>\n",
       "      <td>389.52</td>\n",
       "      <td>92437154</td>\n",
       "      <td>0.024190</td>\n",
       "    </tr>\n",
       "    <tr>\n",
       "      <th>2021-03-02 00:00:00-05:00</th>\n",
       "      <td>115.04</td>\n",
       "      <td>115.1200</td>\n",
       "      <td>114.9500</td>\n",
       "      <td>115.12</td>\n",
       "      <td>9860875</td>\n",
       "      <td>-0.000087</td>\n",
       "      <td>389.82</td>\n",
       "      <td>390.07</td>\n",
       "      <td>386.0000</td>\n",
       "      <td>386.55</td>\n",
       "      <td>70479806</td>\n",
       "      <td>-0.007625</td>\n",
       "    </tr>\n",
       "  </tbody>\n",
       "</table>\n",
       "</div>"
      ],
      "text/plain": [
       "                              AGG                                        \\\n",
       "                             open      high       low   close    volume   \n",
       "time                                                                      \n",
       "2021-02-24 00:00:00-05:00  115.06  115.5000  115.0100  115.47   6131453   \n",
       "2021-02-25 00:00:00-05:00  115.01  115.2900  114.2000  114.41  14520445   \n",
       "2021-02-26 00:00:00-05:00  114.96  115.3900  114.5915  115.37   9735524   \n",
       "2021-03-01 00:00:00-05:00  114.97  115.5899  114.8900  115.13  12546198   \n",
       "2021-03-02 00:00:00-05:00  115.04  115.1200  114.9500  115.12   9860875   \n",
       "\n",
       "                                           SPY                            \\\n",
       "                          daily_return    open    high       low   close   \n",
       "time                                                                       \n",
       "2021-02-24 00:00:00-05:00          NaN  386.33  392.23  385.2700  391.76   \n",
       "2021-02-25 00:00:00-05:00    -0.009180  390.41  391.88  380.7789  382.39   \n",
       "2021-02-26 00:00:00-05:00     0.008391  384.35  385.58  378.2300  380.32   \n",
       "2021-03-01 00:00:00-05:00    -0.002080  385.59  390.92  380.5720  389.52   \n",
       "2021-03-02 00:00:00-05:00    -0.000087  389.82  390.07  386.0000  386.55   \n",
       "\n",
       "                                                   \n",
       "                              volume daily_return  \n",
       "time                                               \n",
       "2021-02-24 00:00:00-05:00   64527459          NaN  \n",
       "2021-02-25 00:00:00-05:00  137059806    -0.023918  \n",
       "2021-02-26 00:00:00-05:00  134902084    -0.005413  \n",
       "2021-03-01 00:00:00-05:00   92437154     0.024190  \n",
       "2021-03-02 00:00:00-05:00   70479806    -0.007625  "
      ]
     },
     "execution_count": 30,
     "metadata": {},
     "output_type": "execute_result"
    }
   ],
   "source": [
    "# Configure the Monte Carlo simulation to forecast 30 years cumulative returns\n",
    "# The weights should be split 40% to AGG and 60% to SPY.\n",
    "# Run 500 samples.\n",
    "MC_30Y = MCSimulation(\n",
    "    portfolio_data = df_portfolio_10Y,\n",
    "    weights = [.40,.60],\n",
    "    num_simulation = 500,\n",
    "    num_trading_days = 252*30\n",
    ")\n",
    "\n",
    "# Review the simulation input data\n",
    "MC_30Y.portfolio_data.head()\n"
   ]
  },
  {
   "cell_type": "code",
   "execution_count": 31,
   "metadata": {},
   "outputs": [
    {
     "name": "stdout",
     "output_type": "stream",
     "text": [
      "Running Monte Carlo simulation number 0.\n",
      "Running Monte Carlo simulation number 10.\n",
      "Running Monte Carlo simulation number 20.\n",
      "Running Monte Carlo simulation number 30.\n",
      "Running Monte Carlo simulation number 40.\n",
      "Running Monte Carlo simulation number 50.\n",
      "Running Monte Carlo simulation number 60.\n",
      "Running Monte Carlo simulation number 70.\n",
      "Running Monte Carlo simulation number 80.\n",
      "Running Monte Carlo simulation number 90.\n",
      "Running Monte Carlo simulation number 100.\n",
      "Running Monte Carlo simulation number 110.\n",
      "Running Monte Carlo simulation number 120.\n",
      "Running Monte Carlo simulation number 130.\n",
      "Running Monte Carlo simulation number 140.\n",
      "Running Monte Carlo simulation number 150.\n",
      "Running Monte Carlo simulation number 160.\n",
      "Running Monte Carlo simulation number 170.\n",
      "Running Monte Carlo simulation number 180.\n",
      "Running Monte Carlo simulation number 190.\n",
      "Running Monte Carlo simulation number 200.\n",
      "Running Monte Carlo simulation number 210.\n",
      "Running Monte Carlo simulation number 220.\n",
      "Running Monte Carlo simulation number 230.\n",
      "Running Monte Carlo simulation number 240.\n",
      "Running Monte Carlo simulation number 250.\n",
      "Running Monte Carlo simulation number 260.\n",
      "Running Monte Carlo simulation number 270.\n",
      "Running Monte Carlo simulation number 280.\n",
      "Running Monte Carlo simulation number 290.\n",
      "Running Monte Carlo simulation number 300.\n",
      "Running Monte Carlo simulation number 310.\n",
      "Running Monte Carlo simulation number 320.\n",
      "Running Monte Carlo simulation number 330.\n",
      "Running Monte Carlo simulation number 340.\n",
      "Running Monte Carlo simulation number 350.\n",
      "Running Monte Carlo simulation number 360.\n",
      "Running Monte Carlo simulation number 370.\n",
      "Running Monte Carlo simulation number 380.\n",
      "Running Monte Carlo simulation number 390.\n",
      "Running Monte Carlo simulation number 400.\n",
      "Running Monte Carlo simulation number 410.\n",
      "Running Monte Carlo simulation number 420.\n",
      "Running Monte Carlo simulation number 430.\n",
      "Running Monte Carlo simulation number 440.\n",
      "Running Monte Carlo simulation number 450.\n",
      "Running Monte Carlo simulation number 460.\n",
      "Running Monte Carlo simulation number 470.\n",
      "Running Monte Carlo simulation number 480.\n",
      "Running Monte Carlo simulation number 490.\n"
     ]
    },
    {
     "data": {
      "text/html": [
       "<div>\n",
       "<style scoped>\n",
       "    .dataframe tbody tr th:only-of-type {\n",
       "        vertical-align: middle;\n",
       "    }\n",
       "\n",
       "    .dataframe tbody tr th {\n",
       "        vertical-align: top;\n",
       "    }\n",
       "\n",
       "    .dataframe thead th {\n",
       "        text-align: right;\n",
       "    }\n",
       "</style>\n",
       "<table border=\"1\" class=\"dataframe\">\n",
       "  <thead>\n",
       "    <tr style=\"text-align: right;\">\n",
       "      <th></th>\n",
       "      <th>0</th>\n",
       "      <th>1</th>\n",
       "      <th>2</th>\n",
       "      <th>3</th>\n",
       "      <th>4</th>\n",
       "      <th>5</th>\n",
       "      <th>6</th>\n",
       "      <th>7</th>\n",
       "      <th>8</th>\n",
       "      <th>9</th>\n",
       "      <th>...</th>\n",
       "      <th>490</th>\n",
       "      <th>491</th>\n",
       "      <th>492</th>\n",
       "      <th>493</th>\n",
       "      <th>494</th>\n",
       "      <th>495</th>\n",
       "      <th>496</th>\n",
       "      <th>497</th>\n",
       "      <th>498</th>\n",
       "      <th>499</th>\n",
       "    </tr>\n",
       "  </thead>\n",
       "  <tbody>\n",
       "    <tr>\n",
       "      <th>0</th>\n",
       "      <td>1.000000</td>\n",
       "      <td>1.000000</td>\n",
       "      <td>1.000000</td>\n",
       "      <td>1.000000</td>\n",
       "      <td>1.000000</td>\n",
       "      <td>1.000000</td>\n",
       "      <td>1.000000</td>\n",
       "      <td>1.000000</td>\n",
       "      <td>1.000000</td>\n",
       "      <td>1.000000</td>\n",
       "      <td>...</td>\n",
       "      <td>1.000000</td>\n",
       "      <td>1.000000</td>\n",
       "      <td>1.000000</td>\n",
       "      <td>1.000000</td>\n",
       "      <td>1.000000</td>\n",
       "      <td>1.000000</td>\n",
       "      <td>1.000000</td>\n",
       "      <td>1.000000</td>\n",
       "      <td>1.000000</td>\n",
       "      <td>1.000000</td>\n",
       "    </tr>\n",
       "    <tr>\n",
       "      <th>1</th>\n",
       "      <td>1.013174</td>\n",
       "      <td>1.004649</td>\n",
       "      <td>0.995695</td>\n",
       "      <td>0.987249</td>\n",
       "      <td>1.001777</td>\n",
       "      <td>1.002029</td>\n",
       "      <td>0.993911</td>\n",
       "      <td>1.005794</td>\n",
       "      <td>1.001225</td>\n",
       "      <td>0.998235</td>\n",
       "      <td>...</td>\n",
       "      <td>1.006427</td>\n",
       "      <td>1.000701</td>\n",
       "      <td>1.005450</td>\n",
       "      <td>0.997828</td>\n",
       "      <td>0.994814</td>\n",
       "      <td>0.996615</td>\n",
       "      <td>0.994050</td>\n",
       "      <td>0.995385</td>\n",
       "      <td>0.999005</td>\n",
       "      <td>1.004667</td>\n",
       "    </tr>\n",
       "    <tr>\n",
       "      <th>2</th>\n",
       "      <td>1.008517</td>\n",
       "      <td>1.007681</td>\n",
       "      <td>0.992929</td>\n",
       "      <td>0.982239</td>\n",
       "      <td>1.005753</td>\n",
       "      <td>0.996751</td>\n",
       "      <td>0.990053</td>\n",
       "      <td>1.003478</td>\n",
       "      <td>0.998429</td>\n",
       "      <td>0.997564</td>\n",
       "      <td>...</td>\n",
       "      <td>1.015779</td>\n",
       "      <td>0.998571</td>\n",
       "      <td>1.009738</td>\n",
       "      <td>1.003774</td>\n",
       "      <td>1.004438</td>\n",
       "      <td>1.000997</td>\n",
       "      <td>0.992433</td>\n",
       "      <td>0.994446</td>\n",
       "      <td>0.994125</td>\n",
       "      <td>1.010402</td>\n",
       "    </tr>\n",
       "    <tr>\n",
       "      <th>3</th>\n",
       "      <td>1.008569</td>\n",
       "      <td>1.011736</td>\n",
       "      <td>0.991829</td>\n",
       "      <td>0.990577</td>\n",
       "      <td>1.004560</td>\n",
       "      <td>0.994645</td>\n",
       "      <td>0.988756</td>\n",
       "      <td>1.007502</td>\n",
       "      <td>0.992535</td>\n",
       "      <td>0.997545</td>\n",
       "      <td>...</td>\n",
       "      <td>1.018797</td>\n",
       "      <td>1.000793</td>\n",
       "      <td>1.005318</td>\n",
       "      <td>1.007848</td>\n",
       "      <td>1.004725</td>\n",
       "      <td>1.003701</td>\n",
       "      <td>0.993734</td>\n",
       "      <td>1.003276</td>\n",
       "      <td>0.998898</td>\n",
       "      <td>1.012424</td>\n",
       "    </tr>\n",
       "    <tr>\n",
       "      <th>4</th>\n",
       "      <td>1.002973</td>\n",
       "      <td>1.017177</td>\n",
       "      <td>0.991200</td>\n",
       "      <td>0.983166</td>\n",
       "      <td>1.008774</td>\n",
       "      <td>0.988290</td>\n",
       "      <td>0.988571</td>\n",
       "      <td>1.009591</td>\n",
       "      <td>0.992880</td>\n",
       "      <td>0.994942</td>\n",
       "      <td>...</td>\n",
       "      <td>1.028436</td>\n",
       "      <td>1.001929</td>\n",
       "      <td>1.001043</td>\n",
       "      <td>0.999758</td>\n",
       "      <td>1.007531</td>\n",
       "      <td>1.002856</td>\n",
       "      <td>0.995095</td>\n",
       "      <td>1.001164</td>\n",
       "      <td>1.000297</td>\n",
       "      <td>1.022369</td>\n",
       "    </tr>\n",
       "    <tr>\n",
       "      <th>...</th>\n",
       "      <td>...</td>\n",
       "      <td>...</td>\n",
       "      <td>...</td>\n",
       "      <td>...</td>\n",
       "      <td>...</td>\n",
       "      <td>...</td>\n",
       "      <td>...</td>\n",
       "      <td>...</td>\n",
       "      <td>...</td>\n",
       "      <td>...</td>\n",
       "      <td>...</td>\n",
       "      <td>...</td>\n",
       "      <td>...</td>\n",
       "      <td>...</td>\n",
       "      <td>...</td>\n",
       "      <td>...</td>\n",
       "      <td>...</td>\n",
       "      <td>...</td>\n",
       "      <td>...</td>\n",
       "      <td>...</td>\n",
       "      <td>...</td>\n",
       "    </tr>\n",
       "    <tr>\n",
       "      <th>7556</th>\n",
       "      <td>129.352374</td>\n",
       "      <td>68.783178</td>\n",
       "      <td>100.284964</td>\n",
       "      <td>75.045576</td>\n",
       "      <td>77.625235</td>\n",
       "      <td>128.042852</td>\n",
       "      <td>117.112428</td>\n",
       "      <td>117.023393</td>\n",
       "      <td>119.403940</td>\n",
       "      <td>113.118248</td>\n",
       "      <td>...</td>\n",
       "      <td>137.616710</td>\n",
       "      <td>98.317397</td>\n",
       "      <td>81.230618</td>\n",
       "      <td>49.158010</td>\n",
       "      <td>48.731165</td>\n",
       "      <td>80.110435</td>\n",
       "      <td>107.642283</td>\n",
       "      <td>66.177438</td>\n",
       "      <td>105.277601</td>\n",
       "      <td>102.148225</td>\n",
       "    </tr>\n",
       "    <tr>\n",
       "      <th>7557</th>\n",
       "      <td>130.184511</td>\n",
       "      <td>68.743095</td>\n",
       "      <td>100.126420</td>\n",
       "      <td>74.735089</td>\n",
       "      <td>77.618865</td>\n",
       "      <td>128.362395</td>\n",
       "      <td>116.980995</td>\n",
       "      <td>117.056161</td>\n",
       "      <td>119.033900</td>\n",
       "      <td>113.713758</td>\n",
       "      <td>...</td>\n",
       "      <td>137.312792</td>\n",
       "      <td>99.275662</td>\n",
       "      <td>81.146986</td>\n",
       "      <td>49.223207</td>\n",
       "      <td>48.949649</td>\n",
       "      <td>80.058020</td>\n",
       "      <td>107.762252</td>\n",
       "      <td>65.890500</td>\n",
       "      <td>104.258632</td>\n",
       "      <td>102.727804</td>\n",
       "    </tr>\n",
       "    <tr>\n",
       "      <th>7558</th>\n",
       "      <td>131.074834</td>\n",
       "      <td>68.646703</td>\n",
       "      <td>100.214336</td>\n",
       "      <td>75.745284</td>\n",
       "      <td>77.728215</td>\n",
       "      <td>127.790523</td>\n",
       "      <td>116.175342</td>\n",
       "      <td>117.437843</td>\n",
       "      <td>119.278313</td>\n",
       "      <td>113.621970</td>\n",
       "      <td>...</td>\n",
       "      <td>136.789434</td>\n",
       "      <td>99.635096</td>\n",
       "      <td>82.101738</td>\n",
       "      <td>49.077655</td>\n",
       "      <td>48.602713</td>\n",
       "      <td>79.530170</td>\n",
       "      <td>107.889891</td>\n",
       "      <td>65.820871</td>\n",
       "      <td>104.640314</td>\n",
       "      <td>102.302564</td>\n",
       "    </tr>\n",
       "    <tr>\n",
       "      <th>7559</th>\n",
       "      <td>131.131192</td>\n",
       "      <td>68.898196</td>\n",
       "      <td>101.129005</td>\n",
       "      <td>74.775859</td>\n",
       "      <td>77.529597</td>\n",
       "      <td>128.180514</td>\n",
       "      <td>115.426771</td>\n",
       "      <td>117.819485</td>\n",
       "      <td>119.550201</td>\n",
       "      <td>114.599554</td>\n",
       "      <td>...</td>\n",
       "      <td>137.756163</td>\n",
       "      <td>99.489124</td>\n",
       "      <td>81.778072</td>\n",
       "      <td>49.105679</td>\n",
       "      <td>48.955251</td>\n",
       "      <td>79.324507</td>\n",
       "      <td>108.160788</td>\n",
       "      <td>65.331162</td>\n",
       "      <td>104.703023</td>\n",
       "      <td>102.288115</td>\n",
       "    </tr>\n",
       "    <tr>\n",
       "      <th>7560</th>\n",
       "      <td>131.546182</td>\n",
       "      <td>68.889502</td>\n",
       "      <td>100.750689</td>\n",
       "      <td>74.935455</td>\n",
       "      <td>77.160858</td>\n",
       "      <td>127.513790</td>\n",
       "      <td>116.238889</td>\n",
       "      <td>118.215218</td>\n",
       "      <td>119.603378</td>\n",
       "      <td>114.774543</td>\n",
       "      <td>...</td>\n",
       "      <td>138.118189</td>\n",
       "      <td>99.410628</td>\n",
       "      <td>81.599354</td>\n",
       "      <td>48.835117</td>\n",
       "      <td>49.080312</td>\n",
       "      <td>79.298711</td>\n",
       "      <td>108.572910</td>\n",
       "      <td>65.378506</td>\n",
       "      <td>104.700590</td>\n",
       "      <td>102.774919</td>\n",
       "    </tr>\n",
       "  </tbody>\n",
       "</table>\n",
       "<p>7561 rows × 500 columns</p>\n",
       "</div>"
      ],
      "text/plain": [
       "             0          1           2          3          4           5    \\\n",
       "0       1.000000   1.000000    1.000000   1.000000   1.000000    1.000000   \n",
       "1       1.013174   1.004649    0.995695   0.987249   1.001777    1.002029   \n",
       "2       1.008517   1.007681    0.992929   0.982239   1.005753    0.996751   \n",
       "3       1.008569   1.011736    0.991829   0.990577   1.004560    0.994645   \n",
       "4       1.002973   1.017177    0.991200   0.983166   1.008774    0.988290   \n",
       "...          ...        ...         ...        ...        ...         ...   \n",
       "7556  129.352374  68.783178  100.284964  75.045576  77.625235  128.042852   \n",
       "7557  130.184511  68.743095  100.126420  74.735089  77.618865  128.362395   \n",
       "7558  131.074834  68.646703  100.214336  75.745284  77.728215  127.790523   \n",
       "7559  131.131192  68.898196  101.129005  74.775859  77.529597  128.180514   \n",
       "7560  131.546182  68.889502  100.750689  74.935455  77.160858  127.513790   \n",
       "\n",
       "             6           7           8           9    ...         490  \\\n",
       "0       1.000000    1.000000    1.000000    1.000000  ...    1.000000   \n",
       "1       0.993911    1.005794    1.001225    0.998235  ...    1.006427   \n",
       "2       0.990053    1.003478    0.998429    0.997564  ...    1.015779   \n",
       "3       0.988756    1.007502    0.992535    0.997545  ...    1.018797   \n",
       "4       0.988571    1.009591    0.992880    0.994942  ...    1.028436   \n",
       "...          ...         ...         ...         ...  ...         ...   \n",
       "7556  117.112428  117.023393  119.403940  113.118248  ...  137.616710   \n",
       "7557  116.980995  117.056161  119.033900  113.713758  ...  137.312792   \n",
       "7558  116.175342  117.437843  119.278313  113.621970  ...  136.789434   \n",
       "7559  115.426771  117.819485  119.550201  114.599554  ...  137.756163   \n",
       "7560  116.238889  118.215218  119.603378  114.774543  ...  138.118189   \n",
       "\n",
       "            491        492        493        494        495         496  \\\n",
       "0      1.000000   1.000000   1.000000   1.000000   1.000000    1.000000   \n",
       "1      1.000701   1.005450   0.997828   0.994814   0.996615    0.994050   \n",
       "2      0.998571   1.009738   1.003774   1.004438   1.000997    0.992433   \n",
       "3      1.000793   1.005318   1.007848   1.004725   1.003701    0.993734   \n",
       "4      1.001929   1.001043   0.999758   1.007531   1.002856    0.995095   \n",
       "...         ...        ...        ...        ...        ...         ...   \n",
       "7556  98.317397  81.230618  49.158010  48.731165  80.110435  107.642283   \n",
       "7557  99.275662  81.146986  49.223207  48.949649  80.058020  107.762252   \n",
       "7558  99.635096  82.101738  49.077655  48.602713  79.530170  107.889891   \n",
       "7559  99.489124  81.778072  49.105679  48.955251  79.324507  108.160788   \n",
       "7560  99.410628  81.599354  48.835117  49.080312  79.298711  108.572910   \n",
       "\n",
       "            497         498         499  \n",
       "0      1.000000    1.000000    1.000000  \n",
       "1      0.995385    0.999005    1.004667  \n",
       "2      0.994446    0.994125    1.010402  \n",
       "3      1.003276    0.998898    1.012424  \n",
       "4      1.001164    1.000297    1.022369  \n",
       "...         ...         ...         ...  \n",
       "7556  66.177438  105.277601  102.148225  \n",
       "7557  65.890500  104.258632  102.727804  \n",
       "7558  65.820871  104.640314  102.302564  \n",
       "7559  65.331162  104.703023  102.288115  \n",
       "7560  65.378506  104.700590  102.774919  \n",
       "\n",
       "[7561 rows x 500 columns]"
      ]
     },
     "execution_count": 31,
     "metadata": {},
     "output_type": "execute_result"
    }
   ],
   "source": [
    "# Run the Monte Carlo simulation to forecast 30 years cumulative returns\n",
    "MC_30Y.calc_cumulative_return()\n"
   ]
  },
  {
   "cell_type": "code",
   "execution_count": 32,
   "metadata": {},
   "outputs": [
    {
     "data": {
      "image/png": "[encoded data removed]",
      "text/plain": [
       "<Figure size 432x288 with 1 Axes>"
      ]
     },
     "metadata": {
      "needs_background": "light"
     },
     "output_type": "display_data"
    }
   ],
   "source": [
    "# Visualize the 30-year Monte Carlo simulation by creating an\n",
    "# overlay line plot\n",
    "MC_sim_line_plot = MC_30Y.plot_simulation()\n"
   ]
  },
  {
   "cell_type": "markdown",
   "metadata": {},
   "source": [
    "#### Step 3: Plot the probability distribution of the Monte Carlo simulation."
   ]
  },
  {
   "cell_type": "code",
   "execution_count": 33,
   "metadata": {},
   "outputs": [
    {
     "data": {
      "image/png": "[encoded data removed]",
      "text/plain": [
       "<Figure size 432x288 with 1 Axes>"
      ]
     },
     "metadata": {
      "needs_background": "light"
     },
     "output_type": "display_data"
    }
   ],
   "source": [
    "# Visualize the probability distribution of the 30-year Monte Carlo simulation \n",
    "# by plotting a histogram\n",
    "MC_sim_dist_plot = MC_30Y.plot_distribution()\n"
   ]
  },
  {
   "cell_type": "markdown",
   "metadata": {},
   "source": [
    "#### Step 4: Generate the summary statistics for the Monte Carlo simulation."
   ]
  },
  {
   "cell_type": "code",
   "execution_count": 34,
   "metadata": {},
   "outputs": [
    {
     "name": "stdout",
     "output_type": "stream",
     "text": [
      "count           500.000000\n",
      "mean            110.441842\n",
      "std              51.586811\n",
      "min              29.438077\n",
      "25%              73.021748\n",
      "50%             102.766361\n",
      "75%             135.802870\n",
      "max             439.693325\n",
      "95% CI Lower     43.914609\n",
      "95% CI Upper    235.888263\n",
      "Name: 7560, dtype: float64\n"
     ]
    }
   ],
   "source": [
    "# Generate summary statistics from the 30-year Monte Carlo simulation results\n",
    "# Save the results as a variable\n",
    "MC_summary_statistics = MC_30Y.summarize_cumulative_return()\n",
    "\n",
    "\n",
    "# Review the 30-year Monte Carlo summary statistics\n",
    "print(MC_summary_statistics)"
   ]
  },
  {
   "cell_type": "markdown",
   "metadata": {},
   "source": [
    "### Analyze the Retirement Portfolio Forecasts\n",
    "\n",
    "Using the current value of only the stock and bond portion of the member's portfolio and the summary statistics that you generated from the Monte Carlo simulation, answer the following question in your Jupyter notebook:\n",
    "\n",
    "-  What are the lower and upper bounds for the expected value of the portfolio with a 95% confidence interval?\n"
   ]
  },
  {
   "cell_type": "code",
   "execution_count": 35,
   "metadata": {},
   "outputs": [
    {
     "name": "stdout",
     "output_type": "stream",
     "text": [
      "The total balance of the stock and bond Portfolio is $118891.0: Stock $47452.0 // Bond $23180.0\n"
     ]
    }
   ],
   "source": [
    "# Print the current balance of the stock and bond portion of the members portfolio\n",
    "print(f\"The total balance of the stock and bond Portfolio is ${round(total_portfolio,0)}:\"\n",
    "    f\" Stock ${round(spy_value,0)} //\"\n",
    "    f\" Bond ${round(agg_value,0)}\")\n"
   ]
  },
  {
   "cell_type": "code",
   "execution_count": 36,
   "metadata": {},
   "outputs": [
    {
     "name": "stdout",
     "output_type": "stream",
     "text": [
      "There is a 95% chance that an initial investment of $118891.0 in the portfolio over the next 30 years will end within in the range of $ 439146.09 and $ 2358882.63.\n"
     ]
    }
   ],
   "source": [
    "# Use the lower and upper `95%` confidence intervals to calculate the range of the possible outcomes for the current stock/bond portfolio\n",
    "ci_lower_thirty_cumulative_return = MC_summary_statistics[8] * 10000\n",
    "ci_upper_thirty_cumulative_return = MC_summary_statistics[9] * 10000\n",
    "\n",
    "# Print the result of your calculations\n",
    "print(f\"There is a 95% chance that an initial investment of ${round(total_portfolio,0)} in the portfolio\"\n",
    "    f\" over the next 30 years will end within in the range of\"\n",
    "    f\" ${ci_lower_thirty_cumulative_return: .2f} and ${ci_upper_thirty_cumulative_return: .2f}.\")\n"
   ]
  },
  {
   "cell_type": "markdown",
   "metadata": {},
   "source": [
    "### Forecast Cumulative Returns in 10 Years\n",
    "\n",
    "The CTO of the credit union is impressed with your work on these planning tools but wonders if 30 years is a long time to wait until retirement. So, your next task is to adjust the retirement portfolio and run a new Monte Carlo simulation to find out if the changes will allow members to retire earlier.\n",
    "\n",
    "For this new Monte Carlo simulation, do the following: \n",
    "\n",
    "- Forecast the cumulative returns for 10 years from now. Because of the shortened investment horizon (30 years to 10 years), the portfolio needs to invest more heavily in the riskier asset&mdash;that is, stock&mdash;to help accumulate wealth for retirement. \n",
    "\n",
    "- Adjust the weights of the retirement portfolio so that the composition for the Monte Carlo simulation consists of 20% bonds and 80% stocks. \n",
    "\n",
    "- Run the simulation over 500 samples, and use the same data that the API call to Alpaca generated.\n",
    "\n",
    "- Based on the new Monte Carlo simulation, answer the following questions in your Jupyter notebook:\n",
    "\n",
    "    - Using the current value of only the stock and bond portion of the member's portfolio and the summary statistics that you generated from the new Monte Carlo simulation, what are the lower and upper bounds for the expected value of the portfolio (with the new weights) with a 95% confidence interval?\n",
    "\n",
    "    - Will weighting the portfolio more heavily toward stocks allow the credit union members to retire after only 10 years?\n"
   ]
  },
  {
   "cell_type": "code",
   "execution_count": 37,
   "metadata": {},
   "outputs": [
    {
     "data": {
      "text/html": [
       "<div>\n",
       "<style scoped>\n",
       "    .dataframe tbody tr th:only-of-type {\n",
       "        vertical-align: middle;\n",
       "    }\n",
       "\n",
       "    .dataframe tbody tr th {\n",
       "        vertical-align: top;\n",
       "    }\n",
       "\n",
       "    .dataframe thead tr th {\n",
       "        text-align: left;\n",
       "    }\n",
       "\n",
       "    .dataframe thead tr:last-of-type th {\n",
       "        text-align: right;\n",
       "    }\n",
       "</style>\n",
       "<table border=\"1\" class=\"dataframe\">\n",
       "  <thead>\n",
       "    <tr>\n",
       "      <th></th>\n",
       "      <th colspan=\"6\" halign=\"left\">AGG</th>\n",
       "      <th colspan=\"6\" halign=\"left\">SPY</th>\n",
       "    </tr>\n",
       "    <tr>\n",
       "      <th></th>\n",
       "      <th>open</th>\n",
       "      <th>high</th>\n",
       "      <th>low</th>\n",
       "      <th>close</th>\n",
       "      <th>volume</th>\n",
       "      <th>daily_return</th>\n",
       "      <th>open</th>\n",
       "      <th>high</th>\n",
       "      <th>low</th>\n",
       "      <th>close</th>\n",
       "      <th>volume</th>\n",
       "      <th>daily_return</th>\n",
       "    </tr>\n",
       "    <tr>\n",
       "      <th>time</th>\n",
       "      <th></th>\n",
       "      <th></th>\n",
       "      <th></th>\n",
       "      <th></th>\n",
       "      <th></th>\n",
       "      <th></th>\n",
       "      <th></th>\n",
       "      <th></th>\n",
       "      <th></th>\n",
       "      <th></th>\n",
       "      <th></th>\n",
       "      <th></th>\n",
       "    </tr>\n",
       "  </thead>\n",
       "  <tbody>\n",
       "    <tr>\n",
       "      <th>2021-02-24 00:00:00-05:00</th>\n",
       "      <td>115.06</td>\n",
       "      <td>115.5000</td>\n",
       "      <td>115.0100</td>\n",
       "      <td>115.47</td>\n",
       "      <td>6131453</td>\n",
       "      <td>NaN</td>\n",
       "      <td>386.33</td>\n",
       "      <td>392.23</td>\n",
       "      <td>385.2700</td>\n",
       "      <td>391.76</td>\n",
       "      <td>64527459</td>\n",
       "      <td>NaN</td>\n",
       "    </tr>\n",
       "    <tr>\n",
       "      <th>2021-02-25 00:00:00-05:00</th>\n",
       "      <td>115.01</td>\n",
       "      <td>115.2900</td>\n",
       "      <td>114.2000</td>\n",
       "      <td>114.41</td>\n",
       "      <td>14520445</td>\n",
       "      <td>-0.009180</td>\n",
       "      <td>390.41</td>\n",
       "      <td>391.88</td>\n",
       "      <td>380.7789</td>\n",
       "      <td>382.39</td>\n",
       "      <td>137059806</td>\n",
       "      <td>-0.023918</td>\n",
       "    </tr>\n",
       "    <tr>\n",
       "      <th>2021-02-26 00:00:00-05:00</th>\n",
       "      <td>114.96</td>\n",
       "      <td>115.3900</td>\n",
       "      <td>114.5915</td>\n",
       "      <td>115.37</td>\n",
       "      <td>9735524</td>\n",
       "      <td>0.008391</td>\n",
       "      <td>384.35</td>\n",
       "      <td>385.58</td>\n",
       "      <td>378.2300</td>\n",
       "      <td>380.32</td>\n",
       "      <td>134902084</td>\n",
       "      <td>-0.005413</td>\n",
       "    </tr>\n",
       "    <tr>\n",
       "      <th>2021-03-01 00:00:00-05:00</th>\n",
       "      <td>114.97</td>\n",
       "      <td>115.5899</td>\n",
       "      <td>114.8900</td>\n",
       "      <td>115.13</td>\n",
       "      <td>12546198</td>\n",
       "      <td>-0.002080</td>\n",
       "      <td>385.59</td>\n",
       "      <td>390.92</td>\n",
       "      <td>380.5720</td>\n",
       "      <td>389.52</td>\n",
       "      <td>92437154</td>\n",
       "      <td>0.024190</td>\n",
       "    </tr>\n",
       "    <tr>\n",
       "      <th>2021-03-02 00:00:00-05:00</th>\n",
       "      <td>115.04</td>\n",
       "      <td>115.1200</td>\n",
       "      <td>114.9500</td>\n",
       "      <td>115.12</td>\n",
       "      <td>9860875</td>\n",
       "      <td>-0.000087</td>\n",
       "      <td>389.82</td>\n",
       "      <td>390.07</td>\n",
       "      <td>386.0000</td>\n",
       "      <td>386.55</td>\n",
       "      <td>70479806</td>\n",
       "      <td>-0.007625</td>\n",
       "    </tr>\n",
       "  </tbody>\n",
       "</table>\n",
       "</div>"
      ],
      "text/plain": [
       "                              AGG                                        \\\n",
       "                             open      high       low   close    volume   \n",
       "time                                                                      \n",
       "2021-02-24 00:00:00-05:00  115.06  115.5000  115.0100  115.47   6131453   \n",
       "2021-02-25 00:00:00-05:00  115.01  115.2900  114.2000  114.41  14520445   \n",
       "2021-02-26 00:00:00-05:00  114.96  115.3900  114.5915  115.37   9735524   \n",
       "2021-03-01 00:00:00-05:00  114.97  115.5899  114.8900  115.13  12546198   \n",
       "2021-03-02 00:00:00-05:00  115.04  115.1200  114.9500  115.12   9860875   \n",
       "\n",
       "                                           SPY                            \\\n",
       "                          daily_return    open    high       low   close   \n",
       "time                                                                       \n",
       "2021-02-24 00:00:00-05:00          NaN  386.33  392.23  385.2700  391.76   \n",
       "2021-02-25 00:00:00-05:00    -0.009180  390.41  391.88  380.7789  382.39   \n",
       "2021-02-26 00:00:00-05:00     0.008391  384.35  385.58  378.2300  380.32   \n",
       "2021-03-01 00:00:00-05:00    -0.002080  385.59  390.92  380.5720  389.52   \n",
       "2021-03-02 00:00:00-05:00    -0.000087  389.82  390.07  386.0000  386.55   \n",
       "\n",
       "                                                   \n",
       "                              volume daily_return  \n",
       "time                                               \n",
       "2021-02-24 00:00:00-05:00   64527459          NaN  \n",
       "2021-02-25 00:00:00-05:00  137059806    -0.023918  \n",
       "2021-02-26 00:00:00-05:00  134902084    -0.005413  \n",
       "2021-03-01 00:00:00-05:00   92437154     0.024190  \n",
       "2021-03-02 00:00:00-05:00   70479806    -0.007625  "
      ]
     },
     "execution_count": 37,
     "metadata": {},
     "output_type": "execute_result"
    }
   ],
   "source": [
    "# Configure a Monte Carlo simulation to forecast 10 years cumulative returns\n",
    "# The weights should be split 20% to AGG and 80% to SPY.\n",
    "# Run 500 samples.\n",
    "MC_10Y = MCSimulation(\n",
    "    portfolio_data = df_portfolio_10Y,\n",
    "    weights = [.20,.80],\n",
    "    num_simulation = 500,\n",
    "    num_trading_days = 252*10\n",
    ")\n",
    "\n",
    "\n",
    "# Review the simulation input data\n",
    "MC_10Y.portfolio_data.head()\n"
   ]
  },
  {
   "cell_type": "code",
   "execution_count": 38,
   "metadata": {},
   "outputs": [
    {
     "name": "stdout",
     "output_type": "stream",
     "text": [
      "Running Monte Carlo simulation number 0.\n",
      "Running Monte Carlo simulation number 10.\n",
      "Running Monte Carlo simulation number 20.\n",
      "Running Monte Carlo simulation number 30.\n",
      "Running Monte Carlo simulation number 40.\n",
      "Running Monte Carlo simulation number 50.\n",
      "Running Monte Carlo simulation number 60.\n",
      "Running Monte Carlo simulation number 70.\n",
      "Running Monte Carlo simulation number 80.\n",
      "Running Monte Carlo simulation number 90.\n",
      "Running Monte Carlo simulation number 100.\n",
      "Running Monte Carlo simulation number 110.\n",
      "Running Monte Carlo simulation number 120.\n",
      "Running Monte Carlo simulation number 130.\n",
      "Running Monte Carlo simulation number 140.\n",
      "Running Monte Carlo simulation number 150.\n",
      "Running Monte Carlo simulation number 160.\n",
      "Running Monte Carlo simulation number 170.\n",
      "Running Monte Carlo simulation number 180.\n",
      "Running Monte Carlo simulation number 190.\n",
      "Running Monte Carlo simulation number 200.\n",
      "Running Monte Carlo simulation number 210.\n",
      "Running Monte Carlo simulation number 220.\n",
      "Running Monte Carlo simulation number 230.\n",
      "Running Monte Carlo simulation number 240.\n",
      "Running Monte Carlo simulation number 250.\n",
      "Running Monte Carlo simulation number 260.\n",
      "Running Monte Carlo simulation number 270.\n",
      "Running Monte Carlo simulation number 280.\n",
      "Running Monte Carlo simulation number 290.\n",
      "Running Monte Carlo simulation number 300.\n",
      "Running Monte Carlo simulation number 310.\n",
      "Running Monte Carlo simulation number 320.\n",
      "Running Monte Carlo simulation number 330.\n",
      "Running Monte Carlo simulation number 340.\n",
      "Running Monte Carlo simulation number 350.\n",
      "Running Monte Carlo simulation number 360.\n",
      "Running Monte Carlo simulation number 370.\n",
      "Running Monte Carlo simulation number 380.\n",
      "Running Monte Carlo simulation number 390.\n",
      "Running Monte Carlo simulation number 400.\n",
      "Running Monte Carlo simulation number 410.\n",
      "Running Monte Carlo simulation number 420.\n",
      "Running Monte Carlo simulation number 430.\n",
      "Running Monte Carlo simulation number 440.\n",
      "Running Monte Carlo simulation number 450.\n",
      "Running Monte Carlo simulation number 460.\n",
      "Running Monte Carlo simulation number 470.\n",
      "Running Monte Carlo simulation number 480.\n",
      "Running Monte Carlo simulation number 490.\n"
     ]
    },
    {
     "data": {
      "text/html": [
       "<div>\n",
       "<style scoped>\n",
       "    .dataframe tbody tr th:only-of-type {\n",
       "        vertical-align: middle;\n",
       "    }\n",
       "\n",
       "    .dataframe tbody tr th {\n",
       "        vertical-align: top;\n",
       "    }\n",
       "\n",
       "    .dataframe thead th {\n",
       "        text-align: right;\n",
       "    }\n",
       "</style>\n",
       "<table border=\"1\" class=\"dataframe\">\n",
       "  <thead>\n",
       "    <tr style=\"text-align: right;\">\n",
       "      <th></th>\n",
       "      <th>0</th>\n",
       "      <th>1</th>\n",
       "      <th>2</th>\n",
       "      <th>3</th>\n",
       "      <th>4</th>\n",
       "      <th>5</th>\n",
       "      <th>6</th>\n",
       "      <th>7</th>\n",
       "      <th>8</th>\n",
       "      <th>9</th>\n",
       "      <th>...</th>\n",
       "      <th>490</th>\n",
       "      <th>491</th>\n",
       "      <th>492</th>\n",
       "      <th>493</th>\n",
       "      <th>494</th>\n",
       "      <th>495</th>\n",
       "      <th>496</th>\n",
       "      <th>497</th>\n",
       "      <th>498</th>\n",
       "      <th>499</th>\n",
       "    </tr>\n",
       "  </thead>\n",
       "  <tbody>\n",
       "    <tr>\n",
       "      <th>0</th>\n",
       "      <td>1.000000</td>\n",
       "      <td>1.000000</td>\n",
       "      <td>1.000000</td>\n",
       "      <td>1.000000</td>\n",
       "      <td>1.000000</td>\n",
       "      <td>1.000000</td>\n",
       "      <td>1.000000</td>\n",
       "      <td>1.000000</td>\n",
       "      <td>1.000000</td>\n",
       "      <td>1.000000</td>\n",
       "      <td>...</td>\n",
       "      <td>1.000000</td>\n",
       "      <td>1.000000</td>\n",
       "      <td>1.000000</td>\n",
       "      <td>1.000000</td>\n",
       "      <td>1.000000</td>\n",
       "      <td>1.000000</td>\n",
       "      <td>1.000000</td>\n",
       "      <td>1.000000</td>\n",
       "      <td>1.000000</td>\n",
       "      <td>1.000000</td>\n",
       "    </tr>\n",
       "    <tr>\n",
       "      <th>1</th>\n",
       "      <td>0.998245</td>\n",
       "      <td>1.008996</td>\n",
       "      <td>1.008932</td>\n",
       "      <td>1.002294</td>\n",
       "      <td>0.994111</td>\n",
       "      <td>0.997336</td>\n",
       "      <td>0.996470</td>\n",
       "      <td>1.001619</td>\n",
       "      <td>0.997588</td>\n",
       "      <td>1.014819</td>\n",
       "      <td>...</td>\n",
       "      <td>1.004802</td>\n",
       "      <td>1.001007</td>\n",
       "      <td>1.008463</td>\n",
       "      <td>1.003077</td>\n",
       "      <td>0.998990</td>\n",
       "      <td>0.997810</td>\n",
       "      <td>0.990838</td>\n",
       "      <td>1.006317</td>\n",
       "      <td>0.994636</td>\n",
       "      <td>1.002264</td>\n",
       "    </tr>\n",
       "    <tr>\n",
       "      <th>2</th>\n",
       "      <td>1.005069</td>\n",
       "      <td>1.003468</td>\n",
       "      <td>1.008454</td>\n",
       "      <td>1.015165</td>\n",
       "      <td>0.997930</td>\n",
       "      <td>1.005720</td>\n",
       "      <td>0.991320</td>\n",
       "      <td>1.000085</td>\n",
       "      <td>0.998271</td>\n",
       "      <td>1.026103</td>\n",
       "      <td>...</td>\n",
       "      <td>1.004098</td>\n",
       "      <td>1.003569</td>\n",
       "      <td>1.006630</td>\n",
       "      <td>1.006959</td>\n",
       "      <td>0.998499</td>\n",
       "      <td>0.996048</td>\n",
       "      <td>1.001678</td>\n",
       "      <td>0.999407</td>\n",
       "      <td>1.011290</td>\n",
       "      <td>0.992632</td>\n",
       "    </tr>\n",
       "    <tr>\n",
       "      <th>3</th>\n",
       "      <td>0.997908</td>\n",
       "      <td>1.012291</td>\n",
       "      <td>1.025180</td>\n",
       "      <td>1.011590</td>\n",
       "      <td>0.992296</td>\n",
       "      <td>1.003694</td>\n",
       "      <td>0.998435</td>\n",
       "      <td>1.008250</td>\n",
       "      <td>1.004649</td>\n",
       "      <td>1.029428</td>\n",
       "      <td>...</td>\n",
       "      <td>1.007899</td>\n",
       "      <td>1.001862</td>\n",
       "      <td>1.006619</td>\n",
       "      <td>1.006793</td>\n",
       "      <td>0.998606</td>\n",
       "      <td>1.005895</td>\n",
       "      <td>1.005149</td>\n",
       "      <td>1.006271</td>\n",
       "      <td>1.011119</td>\n",
       "      <td>0.980336</td>\n",
       "    </tr>\n",
       "    <tr>\n",
       "      <th>4</th>\n",
       "      <td>0.997348</td>\n",
       "      <td>1.022218</td>\n",
       "      <td>1.020472</td>\n",
       "      <td>1.008179</td>\n",
       "      <td>1.003188</td>\n",
       "      <td>0.999620</td>\n",
       "      <td>1.004592</td>\n",
       "      <td>1.019710</td>\n",
       "      <td>1.009839</td>\n",
       "      <td>1.034736</td>\n",
       "      <td>...</td>\n",
       "      <td>1.010197</td>\n",
       "      <td>1.003740</td>\n",
       "      <td>0.999545</td>\n",
       "      <td>1.009893</td>\n",
       "      <td>0.997365</td>\n",
       "      <td>1.011886</td>\n",
       "      <td>1.003430</td>\n",
       "      <td>0.997296</td>\n",
       "      <td>1.007897</td>\n",
       "      <td>0.977348</td>\n",
       "    </tr>\n",
       "    <tr>\n",
       "      <th>...</th>\n",
       "      <td>...</td>\n",
       "      <td>...</td>\n",
       "      <td>...</td>\n",
       "      <td>...</td>\n",
       "      <td>...</td>\n",
       "      <td>...</td>\n",
       "      <td>...</td>\n",
       "      <td>...</td>\n",
       "      <td>...</td>\n",
       "      <td>...</td>\n",
       "      <td>...</td>\n",
       "      <td>...</td>\n",
       "      <td>...</td>\n",
       "      <td>...</td>\n",
       "      <td>...</td>\n",
       "      <td>...</td>\n",
       "      <td>...</td>\n",
       "      <td>...</td>\n",
       "      <td>...</td>\n",
       "      <td>...</td>\n",
       "      <td>...</td>\n",
       "    </tr>\n",
       "    <tr>\n",
       "      <th>2516</th>\n",
       "      <td>10.069838</td>\n",
       "      <td>11.870643</td>\n",
       "      <td>7.823298</td>\n",
       "      <td>7.581291</td>\n",
       "      <td>7.143087</td>\n",
       "      <td>7.287235</td>\n",
       "      <td>9.996008</td>\n",
       "      <td>7.580328</td>\n",
       "      <td>5.193935</td>\n",
       "      <td>5.792139</td>\n",
       "      <td>...</td>\n",
       "      <td>6.858785</td>\n",
       "      <td>3.322966</td>\n",
       "      <td>10.158346</td>\n",
       "      <td>9.866740</td>\n",
       "      <td>10.651479</td>\n",
       "      <td>4.099299</td>\n",
       "      <td>4.249033</td>\n",
       "      <td>7.843479</td>\n",
       "      <td>5.934845</td>\n",
       "      <td>10.838129</td>\n",
       "    </tr>\n",
       "    <tr>\n",
       "      <th>2517</th>\n",
       "      <td>10.116141</td>\n",
       "      <td>11.781640</td>\n",
       "      <td>7.856337</td>\n",
       "      <td>7.545002</td>\n",
       "      <td>7.228457</td>\n",
       "      <td>7.305160</td>\n",
       "      <td>9.882717</td>\n",
       "      <td>7.620687</td>\n",
       "      <td>5.142022</td>\n",
       "      <td>5.786930</td>\n",
       "      <td>...</td>\n",
       "      <td>6.945029</td>\n",
       "      <td>3.349600</td>\n",
       "      <td>10.276749</td>\n",
       "      <td>9.922011</td>\n",
       "      <td>10.587897</td>\n",
       "      <td>4.121461</td>\n",
       "      <td>4.229648</td>\n",
       "      <td>7.915390</td>\n",
       "      <td>5.918933</td>\n",
       "      <td>10.824693</td>\n",
       "    </tr>\n",
       "    <tr>\n",
       "      <th>2518</th>\n",
       "      <td>10.113024</td>\n",
       "      <td>11.778331</td>\n",
       "      <td>7.895407</td>\n",
       "      <td>7.547895</td>\n",
       "      <td>7.269097</td>\n",
       "      <td>7.328186</td>\n",
       "      <td>9.925658</td>\n",
       "      <td>7.715426</td>\n",
       "      <td>5.220788</td>\n",
       "      <td>5.805100</td>\n",
       "      <td>...</td>\n",
       "      <td>6.854430</td>\n",
       "      <td>3.322889</td>\n",
       "      <td>10.093512</td>\n",
       "      <td>9.873793</td>\n",
       "      <td>10.599322</td>\n",
       "      <td>4.069829</td>\n",
       "      <td>4.182923</td>\n",
       "      <td>7.906815</td>\n",
       "      <td>5.911622</td>\n",
       "      <td>10.950357</td>\n",
       "    </tr>\n",
       "    <tr>\n",
       "      <th>2519</th>\n",
       "      <td>10.184401</td>\n",
       "      <td>11.705540</td>\n",
       "      <td>7.947084</td>\n",
       "      <td>7.547306</td>\n",
       "      <td>7.238571</td>\n",
       "      <td>7.332402</td>\n",
       "      <td>9.955905</td>\n",
       "      <td>7.691338</td>\n",
       "      <td>5.211550</td>\n",
       "      <td>5.791387</td>\n",
       "      <td>...</td>\n",
       "      <td>6.765013</td>\n",
       "      <td>3.306031</td>\n",
       "      <td>10.110448</td>\n",
       "      <td>9.900541</td>\n",
       "      <td>10.584282</td>\n",
       "      <td>4.071571</td>\n",
       "      <td>4.199925</td>\n",
       "      <td>7.921017</td>\n",
       "      <td>5.937372</td>\n",
       "      <td>10.939538</td>\n",
       "    </tr>\n",
       "    <tr>\n",
       "      <th>2520</th>\n",
       "      <td>10.188292</td>\n",
       "      <td>11.853802</td>\n",
       "      <td>7.989512</td>\n",
       "      <td>7.511263</td>\n",
       "      <td>7.215217</td>\n",
       "      <td>7.377336</td>\n",
       "      <td>9.851630</td>\n",
       "      <td>7.626360</td>\n",
       "      <td>5.197017</td>\n",
       "      <td>5.802896</td>\n",
       "      <td>...</td>\n",
       "      <td>6.745138</td>\n",
       "      <td>3.295133</td>\n",
       "      <td>10.158518</td>\n",
       "      <td>9.867346</td>\n",
       "      <td>10.611551</td>\n",
       "      <td>4.073584</td>\n",
       "      <td>4.174993</td>\n",
       "      <td>7.908883</td>\n",
       "      <td>5.982000</td>\n",
       "      <td>11.074834</td>\n",
       "    </tr>\n",
       "  </tbody>\n",
       "</table>\n",
       "<p>2521 rows × 500 columns</p>\n",
       "</div>"
      ],
      "text/plain": [
       "            0          1         2         3         4         5         6    \\\n",
       "0      1.000000   1.000000  1.000000  1.000000  1.000000  1.000000  1.000000   \n",
       "1      0.998245   1.008996  1.008932  1.002294  0.994111  0.997336  0.996470   \n",
       "2      1.005069   1.003468  1.008454  1.015165  0.997930  1.005720  0.991320   \n",
       "3      0.997908   1.012291  1.025180  1.011590  0.992296  1.003694  0.998435   \n",
       "4      0.997348   1.022218  1.020472  1.008179  1.003188  0.999620  1.004592   \n",
       "...         ...        ...       ...       ...       ...       ...       ...   \n",
       "2516  10.069838  11.870643  7.823298  7.581291  7.143087  7.287235  9.996008   \n",
       "2517  10.116141  11.781640  7.856337  7.545002  7.228457  7.305160  9.882717   \n",
       "2518  10.113024  11.778331  7.895407  7.547895  7.269097  7.328186  9.925658   \n",
       "2519  10.184401  11.705540  7.947084  7.547306  7.238571  7.332402  9.955905   \n",
       "2520  10.188292  11.853802  7.989512  7.511263  7.215217  7.377336  9.851630   \n",
       "\n",
       "           7         8         9    ...       490       491        492  \\\n",
       "0     1.000000  1.000000  1.000000  ...  1.000000  1.000000   1.000000   \n",
       "1     1.001619  0.997588  1.014819  ...  1.004802  1.001007   1.008463   \n",
       "2     1.000085  0.998271  1.026103  ...  1.004098  1.003569   1.006630   \n",
       "3     1.008250  1.004649  1.029428  ...  1.007899  1.001862   1.006619   \n",
       "4     1.019710  1.009839  1.034736  ...  1.010197  1.003740   0.999545   \n",
       "...        ...       ...       ...  ...       ...       ...        ...   \n",
       "2516  7.580328  5.193935  5.792139  ...  6.858785  3.322966  10.158346   \n",
       "2517  7.620687  5.142022  5.786930  ...  6.945029  3.349600  10.276749   \n",
       "2518  7.715426  5.220788  5.805100  ...  6.854430  3.322889  10.093512   \n",
       "2519  7.691338  5.211550  5.791387  ...  6.765013  3.306031  10.110448   \n",
       "2520  7.626360  5.197017  5.802896  ...  6.745138  3.295133  10.158518   \n",
       "\n",
       "           493        494       495       496       497       498        499  \n",
       "0     1.000000   1.000000  1.000000  1.000000  1.000000  1.000000   1.000000  \n",
       "1     1.003077   0.998990  0.997810  0.990838  1.006317  0.994636   1.002264  \n",
       "2     1.006959   0.998499  0.996048  1.001678  0.999407  1.011290   0.992632  \n",
       "3     1.006793   0.998606  1.005895  1.005149  1.006271  1.011119   0.980336  \n",
       "4     1.009893   0.997365  1.011886  1.003430  0.997296  1.007897   0.977348  \n",
       "...        ...        ...       ...       ...       ...       ...        ...  \n",
       "2516  9.866740  10.651479  4.099299  4.249033  7.843479  5.934845  10.838129  \n",
       "2517  9.922011  10.587897  4.121461  4.229648  7.915390  5.918933  10.824693  \n",
       "2518  9.873793  10.599322  4.069829  4.182923  7.906815  5.911622  10.950357  \n",
       "2519  9.900541  10.584282  4.071571  4.199925  7.921017  5.937372  10.939538  \n",
       "2520  9.867346  10.611551  4.073584  4.174993  7.908883  5.982000  11.074834  \n",
       "\n",
       "[2521 rows x 500 columns]"
      ]
     },
     "execution_count": 38,
     "metadata": {},
     "output_type": "execute_result"
    }
   ],
   "source": [
    "# Run the Monte Carlo simulation to forecast 10 years cumulative returns\n",
    "MC_10Y.calc_cumulative_return()\n"
   ]
  },
  {
   "cell_type": "code",
   "execution_count": 39,
   "metadata": {},
   "outputs": [
    {
     "data": {
      "image/png": "[encoded data removed]",
      "text/plain": [
       "<Figure size 432x288 with 1 Axes>"
      ]
     },
     "metadata": {
      "needs_background": "light"
     },
     "output_type": "display_data"
    }
   ],
   "source": [
    "# Visualize the 10-year Monte Carlo simulation by creating an\n",
    "# overlay line plot\n",
    "MC_sim_line_plot = MC_10Y.plot_simulation()\n"
   ]
  },
  {
   "cell_type": "code",
   "execution_count": 40,
   "metadata": {},
   "outputs": [
    {
     "data": {
      "image/png": "[encoded data removed]",
      "text/plain": [
       "<Figure size 432x288 with 1 Axes>"
      ]
     },
     "metadata": {
      "needs_background": "light"
     },
     "output_type": "display_data"
    }
   ],
   "source": [
    "# Visualize the probability distribution of the 10-year Monte Carlo simulation \n",
    "# by plotting a histogram\n",
    "MC_sim_dist_plot = MC_10Y.plot_distribution()\n"
   ]
  },
  {
   "cell_type": "code",
   "execution_count": 41,
   "metadata": {},
   "outputs": [
    {
     "name": "stdout",
     "output_type": "stream",
     "text": [
      "count           500.000000\n",
      "mean              7.711334\n",
      "std               2.657562\n",
      "min               2.270476\n",
      "25%               5.906283\n",
      "50%               7.285886\n",
      "75%               9.202828\n",
      "max              21.433839\n",
      "95% CI Lower      3.760598\n",
      "95% CI Upper     13.622432\n",
      "Name: 2520, dtype: float64\n"
     ]
    }
   ],
   "source": [
    "# Generate summary statistics from the 10-year Monte Carlo simulation results\n",
    "# Save the results as a variable\n",
    "MC_summary_statistics = MC_10Y.summarize_cumulative_return()\n",
    "\n",
    "\n",
    "# Review the 10-year Monte Carlo summary statistics\n",
    "print(MC_summary_statistics)"
   ]
  },
  {
   "cell_type": "markdown",
   "metadata": {},
   "source": [
    "### Answer the following questions:"
   ]
  },
  {
   "cell_type": "markdown",
   "metadata": {},
   "source": [
    "#### Question: Using the current value of only the stock and bond portion of the member's portfolio and the summary statistics that you generated from the new Monte Carlo simulation, what are the lower and upper bounds for the expected value of the portfolio (with the new weights) with a 95% confidence interval?"
   ]
  },
  {
   "cell_type": "code",
   "execution_count": 42,
   "metadata": {},
   "outputs": [
    {
     "name": "stdout",
     "output_type": "stream",
     "text": [
      "The total balance of the stock and bond Portfolio is $118891.0: Stock $47452.0 // Bond $23180.0\n"
     ]
    }
   ],
   "source": [
    "# Print the current balance of the stock and bond portion of the members portfolio\n",
    "print(f\"The total balance of the stock and bond Portfolio is ${round(total_portfolio,0)}:\"\n",
    "    f\" Stock ${round(spy_value,0)} //\"\n",
    "    f\" Bond ${round(agg_value,0)}\")\n"
   ]
  },
  {
   "cell_type": "code",
   "execution_count": 43,
   "metadata": {},
   "outputs": [
    {
     "name": "stdout",
     "output_type": "stream",
     "text": [
      "There is a 95% chance that an initial investment of $118891.0 in the portfolio over the next 10 years will end within in the range of $ 37605.98 and $ 136224.32.\n"
     ]
    }
   ],
   "source": [
    "# Use the lower and upper `95%` confidence intervals to calculate the range of the possible outcomes for the current stock/bond portfolio\n",
    "ci_lower_ten_cumulative_return = MC_summary_statistics[8] * 10000\n",
    "ci_upper_ten_cumulative_return = MC_summary_statistics[9] * 10000\n",
    "\n",
    "# Print the result of your calculations\n",
    "print(f\"There is a 95% chance that an initial investment of ${round(total_portfolio,0)} in the portfolio\"\n",
    "    f\" over the next 10 years will end within in the range of\"\n",
    "    f\" ${ci_lower_ten_cumulative_return: .2f} and ${ci_upper_ten_cumulative_return: .2f}.\")\n"
   ]
  },
  {
   "cell_type": "markdown",
   "metadata": {},
   "source": [
    "#### Question: Will weighting the portfolio more heavily to stocks allow the credit union members to retire after only 10 years?"
   ]
  },
  {
   "cell_type": "raw",
   "metadata": {},
   "source": [
    "**Answer** -- The initial investment may not generate enough money to be able to retire within 10 years comfortably without any other source of income (also depending on the life style); however, the change in portfolio by investing more heavily to stocks may help increasing overall return."
   ]
  },
  {
   "cell_type": "code",
   "execution_count": null,
   "metadata": {},
   "outputs": [],
   "source": []
  }
 ],
 "metadata": {
  "kernelspec": {
   "display_name": "Python 3",
   "language": "python",
   "name": "python3"
  },
  "language_info": {
   "codemirror_mode": {
    "name": "ipython",
    "version": 3
   },
   "file_extension": ".py",
   "mimetype": "text/x-python",
   "name": "python",
   "nbconvert_exporter": "python",
   "pygments_lexer": "ipython3",
   "version": "3.7.10"
  }
 },
 "nbformat": 4,
 "nbformat_minor": 4
}
